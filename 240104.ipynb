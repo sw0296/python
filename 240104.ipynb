{
 "cells": [
  {
   "cell_type": "code",
   "execution_count": 3,
   "metadata": {},
   "outputs": [
    {
     "name": "stdout",
     "output_type": "stream",
     "text": [
      "['a', 'f', 'b', 'c', 'd', 'e']\n",
      "[10, 20, 30, 40]\n"
     ]
    }
   ],
   "source": [
    "a= [\"a\",\"b\",\"c\"]\n",
    "#list(\"abc\")도 위의 값과 동일하다\n",
    "\n",
    "a.append(\"d\") # a 리스트에 \"d\"추가 \n",
    "a.append(\"e\")\n",
    "a.insert( 1,\"f\") # a 리스트의 1번 자리에 f 추가하는 함수 ㅁ.insert(자리번호,\" \" )\n",
    "print(a)\n",
    "\n",
    "b=('a','b','c')  #튜플 # 소괄호()만으로 리스트 생성 \n",
    "                 #튜플의 특징 변경할 수 없다. 즉, 저장된 요소를 변경, 추가, 삭제할 수 없음 \n",
    "\n",
    "fruits={'banana':1,'apple':1} #딕셔너리는 순서가 없다 / 반면 리스트는 순서가 있다\n",
    "\n",
    "A=input()\n",
    "B = A.split()   # A의 str값을 list로 반환   # ['10', '20', '30', '40'] 이라는 결과가 뜬다\n",
    "#A=['10','20','30','40']\n",
    "num=list(map(int,B)) #num=list(map(int,A))가 아닌 B=A.split() / num=list(map(int,B))로 했었어야 함.\n",
    "print(num)"
   ]
  },
  {
   "cell_type": "code",
   "execution_count": 13,
   "metadata": {},
   "outputs": [
    {
     "name": "stdout",
     "output_type": "stream",
     "text": [
      "['10', '20', '30', '40']\n"
     ]
    }
   ],
   "source": [
    "#A=input()\n",
    "#A.split()\n",
    "A=['10','20','30','40']\n",
    "#list(map(int,A))\n",
    "\n",
    "print(A)\n"
   ]
  },
  {
   "cell_type": "code",
   "execution_count": 25,
   "metadata": {},
   "outputs": [
    {
     "name": "stdout",
     "output_type": "stream",
     "text": [
      "['사나', '쯔위', '나연']\n",
      "[21, 22, 23]\n",
      "22.0\n"
     ]
    }
   ],
   "source": [
    "twice={'사나':21,'쯔위':22,'나연':23}       # 1번 답\n",
    "print(list(twice.keys()))                  # 2번 답\n",
    "print(list(twice.values()))\n",
    "sum = 0                                    # 3번 답\n",
    "for i in list(twice.values()):\n",
    "    sum = sum + i\n",
    "AverageAge=sum/len(list(twice.values()))\n",
    "print(AverageAge)\n",
    "\n"
   ]
  },
  {
   "cell_type": "code",
   "execution_count": 10,
   "metadata": {},
   "outputs": [
    {
     "name": "stdout",
     "output_type": "stream",
     "text": [
      "dict_items([('사나', 21), ('쯔위', 22), ('나연', 23)])\n",
      "21\n",
      "21\n"
     ]
    }
   ],
   "source": [
    "twice={'사나':21,'쯔위':22,'나연':23}\n",
    "twice.items()    #딕셔너리.items()는 키와 값을 담고 있는 \"뷰\"라는 동적인 객제를 나타낸다\n",
    "                 #이 뷰는 딕셔너리의 변경 사항을 반영하고, 딕셔너리가 업데이트되면 뷰도 같이 업데이트된다.\n",
    "                 #반복 가능한 객체이며, 키와 값의 쌍으로 이르어진 튜플이다.\n",
    "print(twice.items())\n",
    "print(twice['사나'])\n",
    "print(twice.get('사나'))"
   ]
  },
  {
   "cell_type": "code",
   "execution_count": 5,
   "metadata": {},
   "outputs": [
    {
     "name": "stdout",
     "output_type": "stream",
     "text": [
      "{'사나': 21, '쯔위': 22}\n"
     ]
    }
   ],
   "source": [
    "twice={'사나':21,'쯔위':22,'나연':23}\n",
    "m=max(twice.values()) # 최대값 찾기\n",
    "for key, value in twice.items():    # 리더님이 밑에 한줄의 문장을 이해하기 쉽게 풀어놓은것\n",
    "    if value == m:\n",
    "        m_key =key\n",
    "#m_key= [ key for key, value in twice.items() if value == m][0] # 최대값 가진 키 찾기 # 위에 것은 리더님이 이 한줄의 문장을 푼것\n",
    "del twice[m_key] # 최대값 가진 항목 삭제 \n",
    "print(twice)\n"
   ]
  },
  {
   "cell_type": "code",
   "execution_count": 6,
   "metadata": {},
   "outputs": [
    {
     "name": "stdout",
     "output_type": "stream",
     "text": [
      "[('사나', 21), ('쯔위', 22), ('나연', 23)]\n"
     ]
    }
   ],
   "source": [
    "twice={'사나':21,'쯔위':22,'나연':23}\n",
    "print(list(twice.items()))"
   ]
  },
  {
   "cell_type": "code",
   "execution_count": 40,
   "metadata": {},
   "outputs": [
    {
     "name": "stdout",
     "output_type": "stream",
     "text": [
      "삭제 후 딕셔너리: {'key1': 10, 'key2': 25, 'key3': 15}\n"
     ]
    }
   ],
   "source": [
    "my_dict = {'key1': 10, 'key2': 25, 'key3': 15, 'key4': 30}\n",
    "\n",
    "# 최대값 찾기\n",
    "max_value = max(my_dict.values())\n",
    "\n",
    "# 최대값을 가진 키 찾기\n",
    "max_key = [key for key, value in my_dict.items() if value == max_value][0]\n",
    "\n",
    "# 최대값을 가진 항목 삭제\n",
    "del my_dict[max_key]\n",
    "\n",
    "print(\"삭제 후 딕셔너리:\", my_dict)"
   ]
  },
  {
   "cell_type": "code",
   "execution_count": 5,
   "metadata": {},
   "outputs": [
    {
     "data": {
      "text/plain": [
       "['s', 't', 'r', 'a', 'w', 'b', 'e', 'r', 'r', 'y', ' ', 'm', 'o', 'o', 'n']"
      ]
     },
     "execution_count": 5,
     "metadata": {},
     "output_type": "execute_result"
    }
   ],
   "source": [
    "list(\"strawberry moon\") "
   ]
  },
  {
   "cell_type": "code",
   "execution_count": 8,
   "metadata": {},
   "outputs": [
    {
     "name": "stdout",
     "output_type": "stream",
     "text": [
      "3\n"
     ]
    }
   ],
   "source": [
    "#함수\n",
    "\n",
    "a=list(\"strawberry moon\")   #문자열도 반복 가능한 객체라 \n",
    "ans=0\n",
    "for i in a:                 #문자열도 반복 가능한 객체라 in 뒤에 가능\n",
    "    if i == 'r':\n",
    "        ans += 1\n",
    "print(ans)\n"
   ]
  },
  {
   "cell_type": "code",
   "execution_count": 9,
   "metadata": {},
   "outputs": [
    {
     "name": "stdout",
     "output_type": "stream",
     "text": [
      "11\n"
     ]
    }
   ],
   "source": [
    "#함수 정의\n",
    "#a=1\n",
    "\n",
    "def myFunction(x): # 여기서 x는 parameter(매개변수)\n",
    "    x = x+1\n",
    "    print(x)\n",
    "    return x\n",
    "    \n",
    "#def myfunction2():\n",
    "    return 10\n",
    "    \n",
    "#myFunction(a)  \n",
    "num = myFunction(10) #여기서 10은 argument(인자=인수)    "
   ]
  },
  {
   "cell_type": "code",
   "execution_count": 38,
   "metadata": {},
   "outputs": [
    {
     "name": "stdout",
     "output_type": "stream",
     "text": [
      "hello\n"
     ]
    }
   ],
   "source": [
    "def sayhello():\n",
    "    print('hello')\n",
    "\n",
    "sayhello()\n",
    "    "
   ]
  },
  {
   "cell_type": "code",
   "execution_count": 19,
   "metadata": {},
   "outputs": [
    {
     "data": {
      "text/plain": [
       "16"
      ]
     },
     "execution_count": 19,
     "metadata": {},
     "output_type": "execute_result"
    }
   ],
   "source": [
    "a=3\n",
    "\n",
    "def function(x):\n",
    "    x=x**2+2*x+1\n",
    "    #print(x)\n",
    "    return x\n",
    "\n",
    "function(a)\n",
    "#print(a)"
   ]
  },
  {
   "cell_type": "code",
   "execution_count": 15,
   "metadata": {},
   "outputs": [
    {
     "data": {
      "text/plain": [
       "16"
      ]
     },
     "execution_count": 15,
     "metadata": {},
     "output_type": "execute_result"
    }
   ],
   "source": [
    "def f(x):\n",
    "    x = x*x + 2*x +1\n",
    "    return x\n",
    "\n",
    "f(3)"
   ]
  },
  {
   "cell_type": "code",
   "execution_count": 17,
   "metadata": {},
   "outputs": [
    {
     "name": "stdout",
     "output_type": "stream",
     "text": [
      "1\n",
      "1\n"
     ]
    }
   ],
   "source": [
    "num = int(input())\n",
    "\n",
    "def myfunction(num): #num1\n",
    "    print(num)\n",
    "    \n",
    "    x = input()\n",
    "\n",
    "def myfunction2(num):  #num2\n",
    "    print(num)\n",
    "    \n",
    "    x = input()\n",
    "\n",
    "\n",
    "myfunction(num)   #num1\n",
    "myfunction2(num)    #num2\n",
    "#print(x) #이거는 에러 뜸. 왜냐하면 x는 정의된 함수 스코프 내에서 끝나니까\n",
    "    \n"
   ]
  },
  {
   "cell_type": "code",
   "execution_count": null,
   "metadata": {},
   "outputs": [],
   "source": [
    "#지난 시간 자판기 답\n",
    "vending_machine = ['게토레이', '레쓰비', '생수', '이프로']\n",
    "print(\"===================RESTART\")\n",
    "berverage = input(\"마시고 싶은 음료?\")\n",
    "if berverage in vending_machine:\n",
    "  print(f\"{berverage} 드릴게요\")\n",
    "else:\n",
    "  print(f\"{berverage}는 지금 없네요\")"
   ]
  },
  {
   "cell_type": "code",
   "execution_count": 19,
   "metadata": {},
   "outputs": [],
   "source": [
    "vending_machine = ['게토레이', '레쓰비', '생수', '이프로']\n",
    "#x=input()\n",
    "#if x==vending_machine:\n",
    "    #print('true')\n",
    "    "
   ]
  },
  {
   "cell_type": "code",
   "execution_count": null,
   "metadata": {},
   "outputs": [],
   "source": []
  },
  {
   "cell_type": "code",
   "execution_count": 46,
   "metadata": {},
   "outputs": [
    {
     "name": "stdout",
     "output_type": "stream",
     "text": [
      "남은 음료수:['게토레이', '레쓰비', '생수', '이프로']\n",
      "\"나\" 음료는 지금 없네요\n",
      "\"나\" 음료가 추가되었습니다. 현재 음료: ['게토레이', '레쓰비', '생수', '이프로', '나']\n",
      "\"나\" 를 제거하겠습니다. 현재 음료: ['게토레이', '레쓰비', '생수', '이프로']\n"
     ]
    }
   ],
   "source": [
    "#자판기 함수화\n",
    "vending_machine = ['게토레이', '레쓰비', '생수', '이프로']\n",
    "\n",
    "\n",
    "def check_machine():\n",
    "    print(f\"남은 음료수:{vending_machine}\")\n",
    "\n",
    "def is_drink():\n",
    "    x=input(\"확인하고 싶은 음료수를 입력하세요\")\n",
    "    \n",
    "    if x in vending_machine:        #if x==vending_machine[:]:이건 x가 리스트가 아니라 str이라서 성립 불가능\n",
    "                                    #리스트 안에 있는걸 확인?찾을려면 in을 쓰는게 났다\n",
    "        print(f\"{x} 음료수가 있습니다\")    \n",
    "    else:\n",
    "        print(f'\"{x}\" 음료는 지금 없네요')\n",
    "\n",
    "def add_drink():\n",
    "    x=input(\"추가하실 음료수를 입력해 주세요\")\n",
    "    vending_machine.append(x)\n",
    "    print(f'\"{x}\" 음료가 추가되었습니다. 현재 음료: {vending_machine}')\n",
    "\n",
    "def remove_drink():\n",
    "    x=input()\n",
    "    \n",
    "    if x in vending_machine:\n",
    "        vending_machine.remove(x)\n",
    "        print(f'\"{x}\" 를 제거하겠습니다. 현재 음료: {vending_machine}')\n",
    "    else:\n",
    "        print(f'\"{x}\"는 존재하지 않는 음료입니다.')\n",
    "    \n",
    "\n",
    "\n",
    "check_machine()\n",
    "is_drink()\n",
    "add_drink()\n",
    "remove_drink()"
   ]
  },
  {
   "cell_type": "code",
   "execution_count": null,
   "metadata": {},
   "outputs": [],
   "source": [
    "#오하림 크루 자판기 답\n",
    "vending_machine = ['게토레이', '레쓰비', '레쓰비', '생수', '생수', '생수', '이프로']\n",
    "def check_machine():\n",
    "    return print(vending_machine)\n",
    "def is_drink():\n",
    "    bev = input(\"마시고 싶은 음료?\")\n",
    "    if bev in vending_machine:\n",
    "        vending_machine.remove(bev)\n",
    "        print(f\"{bev} 드릴게요\")\n",
    "        print(\"남은 음료:\", vending_machine)\n",
    "    else:\n",
    "        print(f\"{bev}는 지금 없네요\")\n",
    "def add_drink():\n",
    "    task_add = input(\"추가할 음료수?\")\n",
    "    vending_machine.append(task_add)\n",
    "    return print(vending_machine)\n",
    "def remove_drink():\n",
    "    task_remove = input(\"삭제할 음료수?\")\n",
    "    if task_remove in vending_machine:\n",
    "            vending_machine.remove(task_remove)\n",
    "            print(\"삭제 완료\")\n",
    "            print(\"남은 음료:\", vending_machine)\n",
    "    else:\n",
    "        print(\"삭제할 음료수가 없습니다\")\n",
    "check_machine()\n",
    "is_drink()\n",
    "add_drink()\n",
    "remove_drink()"
   ]
  },
  {
   "cell_type": "code",
   "execution_count": 34,
   "metadata": {},
   "outputs": [
    {
     "name": "stdout",
     "output_type": "stream",
     "text": [
      "['나', '가', '다']\n"
     ]
    }
   ],
   "source": [
    "x = '나'\n",
    "y = [\"가\",\"다\"]\n",
    "a=list (x) + y \n",
    "print(a)"
   ]
  },
  {
   "cell_type": "code",
   "execution_count": 12,
   "metadata": {},
   "outputs": [
    {
     "name": "stdout",
     "output_type": "stream",
     "text": [
      "[1, 2, 3]\n"
     ]
    }
   ],
   "source": [
    "list_=[3,1,2]\n",
    "list_.sort(reverse=False)\n",
    "print(list_)"
   ]
  },
  {
   "cell_type": "code",
   "execution_count": 3,
   "metadata": {},
   "outputs": [
    {
     "name": "stdout",
     "output_type": "stream",
     "text": [
      "hi\n",
      "hi\n",
      "hi\n"
     ]
    }
   ],
   "source": [
    "#재귀함수\n",
    "def sayhi(i):\n",
    "    print(\"hi\")\n",
    "    i= i-1\n",
    "    if i == 0:\n",
    "        return\n",
    "    sayhi(i)\n",
    "    \n",
    "sayhi(3)"
   ]
  },
  {
   "cell_type": "code",
   "execution_count": 2,
   "metadata": {},
   "outputs": [
    {
     "data": {
      "text/plain": [
       "6"
      ]
     },
     "execution_count": 2,
     "metadata": {},
     "output_type": "execute_result"
    }
   ],
   "source": [
    "#재귀함수로 팩토리얼 만들기\n",
    "def fac(i):\n",
    "    if i == 1:\n",
    "        return 1\n",
    "    return i * fac(i-1)\n",
    "\n",
    "fac(3)"
   ]
  },
  {
   "cell_type": "code",
   "execution_count": 21,
   "metadata": {},
   "outputs": [
    {
     "data": {
      "text/plain": [
       "1"
      ]
     },
     "execution_count": 21,
     "metadata": {},
     "output_type": "execute_result"
    }
   ],
   "source": [
    "#재귀함수 실습2\n",
    "def pibo(i):\n",
    "    input()\n",
    "    a=b=1\n",
    "    if a == 1:\n",
    "        if b == 1:\n",
    "            return 1\n",
    "    return 1\n",
    "\n",
    "pibo(1)"
   ]
  }
 ],
 "metadata": {
  "kernelspec": {
   "display_name": "base",
   "language": "python",
   "name": "python3"
  },
  "language_info": {
   "codemirror_mode": {
    "name": "ipython",
    "version": 3
   },
   "file_extension": ".py",
   "mimetype": "text/x-python",
   "name": "python",
   "nbconvert_exporter": "python",
   "pygments_lexer": "ipython3",
   "version": "3.12.0"
  }
 },
 "nbformat": 4,
 "nbformat_minor": 2
}
