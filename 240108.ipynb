{
 "cells": [
  {
   "cell_type": "code",
   "execution_count": 24,
   "metadata": {},
   "outputs": [
    {
     "data": {
      "text/plain": [
       "[['apple', 2], ['banana', 2], ['orange', 3]]"
      ]
     },
     "execution_count": 24,
     "metadata": {},
     "output_type": "execute_result"
    }
   ],
   "source": [
    "#인스턴스화가 뭔지 / 클래스가 뭔지\n",
    "my_dict={'apple':2,'banana':2,'orange':3}\n",
    "my_dict.items()\n",
    "\n",
    "[[key, value] for key,value in my_dict.items()]\n",
    "#[list(items) for items in my_dict.items()]\n"
   ]
  },
  {
   "cell_type": "code",
   "execution_count": null,
   "metadata": {},
   "outputs": [],
   "source": [
    "my_dict={'apple':2,'banana':2,'orange':3}\n",
    "my_dict.items()\n",
    "\n",
    "for key,value in my_dict.items():\n",
    "\n",
    "    print(key,value)"
   ]
  },
  {
   "cell_type": "code",
   "execution_count": 29,
   "metadata": {},
   "outputs": [
    {
     "name": "stdout",
     "output_type": "stream",
     "text": [
      "{'apple': 5, 'banana': 9}\n"
     ]
    }
   ],
   "source": [
    "#컴프리핸션으로 과일의 개수가 5개 이상인 과일들만 모아서 새로운 딕셔너리를 만들어 주세요.\n",
    "my_dict={'apple':5,'banana':9,'orange':3}\n",
    "\n",
    "mydict = {key : value for (key,value) in my_dict.items() if value >= 5}\n",
    "print(mydict)\n"
   ]
  },
  {
   "cell_type": "code",
   "execution_count": 33,
   "metadata": {},
   "outputs": [
    {
     "data": {
      "text/plain": [
       "7"
      ]
     },
     "execution_count": 33,
     "metadata": {},
     "output_type": "execute_result"
    }
   ],
   "source": [
    "\n",
    "add = lambda x,y : x + y\n",
    "add(2,5)\n",
    "\n"
   ]
  },
  {
   "cell_type": "code",
   "execution_count": 37,
   "metadata": {},
   "outputs": [
    {
     "name": "stdout",
     "output_type": "stream",
     "text": [
      "bossbaby\n",
      "보스아이\n"
     ]
    }
   ],
   "source": [
    "# movie 전체 \n",
    "#private : __ 언더바 2개, 왜 선언하나? 이유: 바꿀수 없고 바꿔선 안되기 때문\n",
    "class Movie:\n",
    "  count = 0\n",
    "  def __init__(self, title, audience):\n",
    "    self.__title = title\n",
    "    self.audience = audience\n",
    "    Movie.count +=1                 #무비를 선언할때마다 +1식 되는것\n",
    "    \n",
    "  def get_title(self):\n",
    "    return self.__title\n",
    "  \n",
    "  def set_title(self, title):\n",
    "    self.__title =title\n",
    "    \n",
    "movie1 = Movie(\"bossbaby\", 100)\n",
    "\n",
    "#print(movie1.__title)    #private이라 접근 불가\n",
    "print(movie1.get_title())\n",
    "movie1.set_title(\"보스아이\")\n",
    "print(movie1.get_title())"
   ]
  },
  {
   "cell_type": "code",
   "execution_count": 38,
   "metadata": {},
   "outputs": [
    {
     "name": "stdout",
     "output_type": "stream",
     "text": [
      "{'make': 'tesla', 'model': 'r99', 'year': '2000', 'color': 'red'}\n"
     ]
    }
   ],
   "source": [
    "class Car:\n",
    "    def __init__(self, make, model, year, color):\n",
    "        self.make = make      # 제조사\n",
    "        self.model = model    # 모델\n",
    "        self.year = year      # 제조년도\n",
    "        self.color = color    # 색상\n",
    "        \n",
    "        \n",
    "tesla = Car('tesla','r99','2000','red')\n",
    "print(vars(tesla)) # attribute를 알아내기\n",
    "print(vars(tesla))"
   ]
  },
  {
   "cell_type": "code",
   "execution_count": 39,
   "metadata": {},
   "outputs": [
    {
     "name": "stdout",
     "output_type": "stream",
     "text": [
      "25\n"
     ]
    }
   ],
   "source": [
    "# 체인메소드 \n",
    "class Chainable:\n",
    "    def __init__(self, value=0):\n",
    "        self.value = value\n",
    "\n",
    "    def add(self, x):\n",
    "        self.value += x\n",
    "        return self  # 자기 자신을 리턴하여 메소드 체인을 지원\n",
    "\n",
    "    def multiply(self, y):\n",
    "        self.value *= y\n",
    "        return self\n",
    "\n",
    "    def get_result(self):\n",
    "        return self.value\n",
    "\n",
    "# 객체 생성\n",
    "obj = Chainable()\n",
    "\n",
    "# 메소드 체인을 통한 호출\n",
    "result = obj.add(5).multiply(3).add(10).get_result()\n",
    "\n",
    "print(result)  # 출력: 45 ( (0+5)*3+10 )"
   ]
  },
  {
   "cell_type": "code",
   "execution_count": null,
   "metadata": {},
   "outputs": [],
   "source": [
    "class FB_Player: # initialize\n",
    "  def __init__(self,myname,age,backnumber,position,club):\n",
    "    self.name = myname\n",
    "    self.age = age\n",
    "    self.backnumber = backnumber\n",
    "    self.position = position\n",
    "    self.club = club\n",
    "    \n",
    "  def Info_Pos(self): \n",
    "    print(f\"저는 {self.position} 포지션입니다.\")\n",
    "    \n",
    "    \n",
    "\n",
    "messi = FB_Player(\"messi\",\"35\",\"10\",\"MF\",\"마이애미\")\n",
    "\n",
    "ronaldo = FB_Player(\"ronaldo\",\"40\",\"11\",\"DF\",\"한국\")\n",
    "\n",
    "\n",
    "print(hex(id(messi.Info_Pos)))\n",
    "print(\"===========================\")\n",
    "\n",
    "print(hex(id(ronaldo.Info_Pos)))\n",
    "print(\"===========================\")\n",
    "\n",
    "\n",
    "print(hex(id(messi.Info_Pos())))\n",
    "print(\"===========================\")\n",
    "\n",
    "print(hex(id(ronaldo.Info_Pos())))\n",
    "print(\"===========================\")\n",
    "\n",
    "print(hex(id(messi.age)))\n",
    "print(hex(id(ronaldo.age)))"
   ]
  },
  {
   "cell_type": "code",
   "execution_count": 48,
   "metadata": {},
   "outputs": [
    {
     "name": "stdout",
     "output_type": "stream",
     "text": [
      "0.01\n"
     ]
    },
    {
     "ename": "AttributeError",
     "evalue": "'Weapon' object has no attribute '_Item__Iprice'",
     "output_type": "error",
     "traceback": [
      "\u001b[1;31m---------------------------------------------------------------------------\u001b[0m",
      "\u001b[1;31mAttributeError\u001b[0m                            Traceback (most recent call last)",
      "Cell \u001b[1;32mIn[48], line 23\u001b[0m\n\u001b[0;32m     20\u001b[0m \u001b[38;5;66;03m#myBow.__dropRate = 20 \u001b[39;00m\n\u001b[0;32m     22\u001b[0m myBow\u001b[38;5;241m.\u001b[39mgetDropRate()\n\u001b[1;32m---> 23\u001b[0m \u001b[43mmyBow\u001b[49m\u001b[38;5;241;43m.\u001b[39;49m\u001b[43mgetIprice\u001b[49m\u001b[43m(\u001b[49m\u001b[43m)\u001b[49m\n\u001b[0;32m     24\u001b[0m \u001b[38;5;66;03m#print(myBow.__dropRate)\u001b[39;00m\n",
      "Cell \u001b[1;32mIn[48], line 7\u001b[0m, in \u001b[0;36mItem.getIprice\u001b[1;34m(self)\u001b[0m\n\u001b[0;32m      6\u001b[0m \u001b[38;5;28;01mdef\u001b[39;00m \u001b[38;5;21mgetIprice\u001b[39m(\u001b[38;5;28mself\u001b[39m):\n\u001b[1;32m----> 7\u001b[0m     \u001b[38;5;28;01mreturn\u001b[39;00m \u001b[38;5;28;43mself\u001b[39;49m\u001b[38;5;241;43m.\u001b[39;49m\u001b[43m__Iprice\u001b[49m\n",
      "\u001b[1;31mAttributeError\u001b[0m: 'Weapon' object has no attribute '_Item__Iprice'"
     ]
    }
   ],
   "source": [
    "class Item:\n",
    "    def __init__(self, Iprice=None, Itype=None):\n",
    "        self.__Iprice = Iprice\n",
    "        self.Itype = Itype\n",
    "\n",
    "    def getIprice(self):\n",
    "        return self.__Iprice  # 값을 반환하는 것이 더 적절할 것입니다.\n",
    "\n",
    "class Weapon(Item):\n",
    "    def __init__(self, Iprice=None, Itype=None, dropRate=0):\n",
    "        #super().__init__(Iprice, Itype)  # Item 클래스의 생성자 호출\n",
    "        self.__dropRate = dropRate\n",
    "\n",
    "    def setDropRate(self, dropRate):\n",
    "        self.__dropRate = dropRate\n",
    "    def getDropRate(self):\n",
    "        print(self.__dropRate)\n",
    "\n",
    "myBow = Weapon(100, 'Bow',0.01)  # Item 클래스의 생성자와 Weapon 클래스의 생성자에 필요한 인자를 제공\n",
    "#myBow.__dropRate = 20 \n",
    "\n",
    "myBow.getDropRate()\n",
    "myBow.getIprice()\n",
    "#print(myBow.__dropRate)"
   ]
  },
  {
   "cell_type": "code",
   "execution_count": 63,
   "metadata": {},
   "outputs": [
    {
     "ename": "AttributeError",
     "evalue": "'field' object has no attribute '_mygame__ID'",
     "output_type": "error",
     "traceback": [
      "\u001b[1;31m---------------------------------------------------------------------------\u001b[0m",
      "\u001b[1;31mAttributeError\u001b[0m                            Traceback (most recent call last)",
      "Cell \u001b[1;32mIn[63], line 49\u001b[0m\n\u001b[0;32m     47\u001b[0m user1 \u001b[38;5;241m=\u001b[39m field(\u001b[38;5;124m\"\u001b[39m\u001b[38;5;124m사막\u001b[39m\u001b[38;5;124m\"\u001b[39m)\n\u001b[0;32m     48\u001b[0m \u001b[38;5;66;03m#user1.print_field()\u001b[39;00m\n\u001b[1;32m---> 49\u001b[0m \u001b[38;5;28mprint\u001b[39m(user1\u001b[38;5;241m.\u001b[39mgetID()); \u001b[38;5;28mprint\u001b[39m(user1\u001b[38;5;241m.\u001b[39mgetPW())\n",
      "Cell \u001b[1;32mIn[63], line 12\u001b[0m, in \u001b[0;36mmygame.getID\u001b[1;34m(self)\u001b[0m\n\u001b[0;32m     11\u001b[0m \u001b[38;5;28;01mdef\u001b[39;00m \u001b[38;5;21mgetID\u001b[39m(\u001b[38;5;28mself\u001b[39m):\n\u001b[1;32m---> 12\u001b[0m     \u001b[38;5;28;01mreturn\u001b[39;00m \u001b[38;5;28;43mself\u001b[39;49m\u001b[38;5;241;43m.\u001b[39;49m\u001b[43m__ID\u001b[49m\n",
      "\u001b[1;31mAttributeError\u001b[0m: 'field' object has no attribute '_mygame__ID'"
     ]
    }
   ],
   "source": [
    "#게임\n",
    "#게임 클라이언트, ID PW, 필드, 클래스(기사 법사), 몬스터, 아이템\n",
    "#메소드 공격 공격을 했으면 플레이어 hp가 깍이거나\n",
    "#교환\n",
    "\n",
    "class mygame :\n",
    "    def __init__(self, id, pw ):\n",
    "        self.__ID = id\n",
    "        self.__PW = pw\n",
    "    \n",
    "    def getID(self):\n",
    "        return self.__ID\n",
    "    def getPW(self):\n",
    "        return self.__PW\n",
    "\n",
    "class field :\n",
    "    def __init__(self, nfield):\n",
    "        self.field = nfield\n",
    "    \n",
    "    def print_field(self):\n",
    "        print(f\"현재 필드는 {self.field}입니다.\")\n",
    "\n",
    "class cls :\n",
    "    def __init__(self, ucls):\n",
    "        self.cls = ucls\n",
    "    \n",
    "    def print_cls(self):\n",
    "        print(f\"당신의 클래스는 {self.cls}입니다.\")\n",
    "        \n",
    "class monster :\n",
    "    def __init__(self, mst, lev):\n",
    "        self.mst = mst\n",
    "        self.mstlev = lev\n",
    "        \n",
    "    def print_mst(self):\n",
    "        print(f\"몬스터는 {self.mst}이며, 몬스터의 레벨은 {self.mstlev}입니다.\")\n",
    "        \n",
    "class Item:\n",
    "    def __init__(self, Iprice=None, Itype=None):\n",
    "        self.__Iprice = Iprice\n",
    "        self.Itype = Itype\n",
    "\n",
    "    def getIprice(self):\n",
    "        return self.__Iprice \n",
    "    \n",
    "#user1 = mygame(\"uuu\", \"111\") # (\"ID\" , \"PW\")\n",
    "user1 = field(\"사막\")\n",
    "#user1.print_field()\n",
    "print(user1.getID()); print(user1.getPW())\n",
    "\n",
    "\n",
    "\n",
    "    \n",
    "    "
   ]
  },
  {
   "cell_type": "code",
   "execution_count": 20,
   "metadata": {},
   "outputs": [
    {
     "ename": "IndentationError",
     "evalue": "expected an indented block after 'while' statement on line 55 (4089679691.py, line 57)",
     "output_type": "error",
     "traceback": [
      "\u001b[1;36m  Cell \u001b[1;32mIn[20], line 57\u001b[1;36m\u001b[0m\n\u001b[1;33m    pass\u001b[0m\n\u001b[1;37m    ^\u001b[0m\n\u001b[1;31mIndentationError\u001b[0m\u001b[1;31m:\u001b[0m expected an indented block after 'while' statement on line 55\n"
     ]
    }
   ],
   "source": [
    "\n",
    "class mygame :\n",
    "    def __init__(self , id = None, pw = None, nfield = None, ucls = None, hp=0 ):\n",
    "        self.__ID = id\n",
    "        self.__PW = pw\n",
    "        self.field = nfield\n",
    "        self.cls = ucls\n",
    "        self.myhp = hp\n",
    "    \n",
    "    def getID(self):\n",
    "        return self.__ID\n",
    "    def getPW(self):\n",
    "        return self.__PW\n",
    "    def print_field(self):\n",
    "        print(f\"현재 필드는 {self.field}입니다.\")\n",
    "    def print_cls(self):\n",
    "        print(f\"당신의 클래스는 {self.cls}입니다.\")\n",
    "    def print_hp(self):\n",
    "        print(f\"당신의 HP는 {self.myhp}입니다.\")\n",
    "\n",
    "class gplay(mygame) :\n",
    "    #def __init__(self,attack,defence):\n",
    "    #self.attack=\n",
    "    def __init__(self,attack,defence,heal,hp=0): \n",
    "        super().__init__(hp=hp)    # super().__init__로 mygame의 파라미터,필드,매소드를 상속받는다\n",
    "                                   # super().__init__(1.hp=2.hp) 1번 hp는 mygame의 hp(파라미터) 2번 hp는 gplay의 hp(파라미터)\n",
    "     \n",
    "        \n",
    "        \n",
    "    def healhp(self):    # 매소드(self,?) self말고 추가로 들어갈수 있는게 있나?    \n",
    "        self.myhp += 10\n",
    "        print(f\"hp가 10 회복되었습니다. 현재 HP:{self.myhp}\")\n",
    "            \n",
    "    #pass\n",
    "\n",
    "\n",
    "class monster :\n",
    "    def __init__(self, mst, lev, hp):\n",
    "        self.mst = mst\n",
    "        self.mstlev = lev\n",
    "        self.msthp = hp\n",
    "            \n",
    "    def print_mst(self):\n",
    "        print(f\"몬스터는 {self.mst}이며, 몬스터의 레벨은 {self.mstlev}, HP는{self.msthp}입니다.\")\n",
    "        \n",
    "class Item:\n",
    "    def __init__(self, Iprice=None, Itype=None):\n",
    "        self.__Iprice = Iprice\n",
    "        self.Itype = Itype\n",
    "\n",
    "    def getIprice(self):\n",
    "        return self.__Iprice \n",
    "    \n",
    "class fight :\n",
    "    #isEnd = True\n",
    "\n",
    "    def fight(self):\n",
    "        while(self):\n",
    "            choose = input(\"1.공격 2.방어 3.회복\")\n",
    "            if(choose == \"1\"):\n",
    "                \n",
    "            \n",
    "        \n",
    "    \n",
    "            \n",
    "\n",
    "user1 = mygame(\"uuu\",\"111\",\"사막\",\"검사\",100)\n",
    "user1.print_field() \n",
    "user1.print_cls()\n",
    "user1 = gplay(\"attack\",\"defence\",\"heal\",10)    \n",
    "# gplay가 mygame을 상속 받았기 때문에 my게임의 파라미터, 필드와 매소드 까지 다 사용가능\n",
    "mon1 = monster(\"codingon\",\"1\",\"10\")\n",
    "mon1.print_mst()\n",
    "user1.print_hp()\n",
    "user1.healhp()\n",
    "\n",
    "\n",
    "\n",
    "#user1 = gplay.healhp()\n"
   ]
  },
  {
   "cell_type": "code",
   "execution_count": 4,
   "metadata": {},
   "outputs": [
    {
     "name": "stdout",
     "output_type": "stream",
     "text": [
      "현재 필드는 사막입니다.\n",
      "당신의 클래스는 검사입니다.\n",
      "당신의 HP는 100입니다.\n",
      "당신의 HP는 99입니다.\n",
      "None의 HP가 10 회복되었습니다. 현재 HP: 109\n"
     ]
    }
   ],
   "source": [
    "class mygame:\n",
    "    def __init__(self, id=None, pw=None, nfield=None, ucls=None, hp=0):\n",
    "        self.__ID = id\n",
    "        self.__PW = pw\n",
    "        self.field = nfield\n",
    "        self.cls = ucls\n",
    "        self.myhp = hp\n",
    "\n",
    "    def getID(self):\n",
    "        return self.__ID\n",
    "\n",
    "    def getPW(self):\n",
    "        return self.__PW\n",
    "\n",
    "    def print_field(self):\n",
    "        print(f\"현재 필드는 {self.field}입니다.\")\n",
    "\n",
    "    def print_cls(self):\n",
    "        print(f\"당신의 클래스는 {self.cls}입니다.\")\n",
    "\n",
    "    def print_hp(self):\n",
    "        print(f\"당신의 HP는 {self.myhp}입니다.\")\n",
    "\n",
    "\n",
    "class gplay(mygame):\n",
    "    def __init__(self, attack, defence, heal, hp=0):\n",
    "        super().__init__(hp=hp)\n",
    "        self.attack = attack\n",
    "        self.defence = defence\n",
    "        self.heal = heal\n",
    "\n",
    "    def healhp(self):  # healhp 메서드의 매개변수 제거\n",
    "        self.myhp += 10  # 예시로 10만큼 HP를 회복하는 동작을 추가\n",
    "        print(f\"{self.cls}의 HP가 10 회복되었습니다. 현재 HP: {self.myhp}\")\n",
    "\n",
    "\n",
    "user1 = mygame(\"uuu\", \"111\", \"사막\", \"검사\", 100)\n",
    "user1.print_field()\n",
    "user1.print_cls()\n",
    "user1.print_hp()\n",
    "\n",
    "user2 = gplay(\"attack\", \"defence\", \"heal\", 99)\n",
    "user2.print_hp()\n",
    "user2.healhp()"
   ]
  },
  {
   "cell_type": "code",
   "execution_count": null,
   "metadata": {},
   "outputs": [],
   "source": []
  }
 ],
 "metadata": {
  "kernelspec": {
   "display_name": "Python 3",
   "language": "python",
   "name": "python3"
  },
  "language_info": {
   "codemirror_mode": {
    "name": "ipython",
    "version": 3
   },
   "file_extension": ".py",
   "mimetype": "text/x-python",
   "name": "python",
   "nbconvert_exporter": "python",
   "pygments_lexer": "ipython3",
   "version": "3.12.0"
  }
 },
 "nbformat": 4,
 "nbformat_minor": 2
}
