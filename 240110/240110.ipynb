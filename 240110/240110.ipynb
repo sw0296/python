{
 "cells": [
  {
   "cell_type": "code",
   "execution_count": 20,
   "metadata": {},
   "outputs": [
    {
     "name": "stdout",
     "output_type": "stream",
     "text": [
      "hello\n",
      "안녕\n",
      "반가워\n",
      "난, 코딩온이야\n"
     ]
    },
    {
     "data": {
      "text/plain": [
       "<function TextIOWrapper.close()>"
      ]
     },
     "execution_count": 20,
     "metadata": {},
     "output_type": "execute_result"
    }
   ],
   "source": [
    "#파일 입출력\n",
    "f4 = open(\"./text2.txt\",\"r\",encoding=\"utf-8\")\n",
    "print(f4.read())\n",
    "\n",
    "f4.seek(0)                      #seek(위치): 해당하는 위치로 커서 이동(한글은 2의 배수), seek(0)을 이용하면 제일 앞으로 이동\n",
    "print(f4.tell())\n",
    "\n",
    "context = f4.readlines()        #readlines(): 파일의 모든 줄을 읽고, 각각의 줄을 요소로 갖는 리스트를 반환\n",
    "print(context)\n",
    "\n",
    "f4.close\n"
   ]
  },
  {
   "cell_type": "code",
   "execution_count": 18,
   "metadata": {},
   "outputs": [
    {
     "name": "stdout",
     "output_type": "stream",
     "text": [
      "hihihi\n",
      "hihi\n",
      "hihi\n",
      "hihi\n",
      "hihi\n",
      "hihi\n",
      "hihi\n",
      "hihi\n",
      "hi\n"
     ]
    }
   ],
   "source": [
    "#with open을 하면 .close를 사용할 필요X\n",
    "#with open(\"example.txt\",\"a\") as file:         # a : 파일의 뒷부분에 데이터를 추가\n",
    "#    file.write(\"hi\")                          # with open(\"example.txt\",\"a\") as file = file이라는 객체에 데이터를 추가\n",
    "                                               # file이라는 객체에 .write를 사용해서 hi를 쓴다. (결과물:hi 또는 hihihi)\n",
    "                                                \n",
    "#with open(\"example.txt\",\"a\") as file:         \n",
    "#    file.write(\"\\nhi\")                        #\\n을 써줌으로써 쓸때마다 엔터가 된다.\n",
    "    \n",
    "with open(\"example.txt\",\"r\") as file:          #open(\"example.txt\",\"r\") as file = file이라는 객체에 example파일을 읽기 위해서 연다\n",
    "    print(file.read())\n"
   ]
  },
  {
   "cell_type": "code",
   "execution_count": 19,
   "metadata": {},
   "outputs": [],
   "source": [
    "#이미 존재하는 파일이라면 건드는게 무서워, 새로운 파일로 만들고 싶어\n",
    "with open(\"newtext2.txt\",\"x\") as file:          # x : 새로운 파일을 생성할때 사용 (\"만들 파일 이름\",\"x\")\n",
    "    file.write(\"this is a new file\")"
   ]
  },
  {
   "cell_type": "code",
   "execution_count": 49,
   "metadata": {},
   "outputs": [
    {
     "name": "stdout",
     "output_type": "stream",
     "text": [
      "유저1 123\n",
      "유저2 456\n",
      "유저3 789\n"
     ]
    }
   ],
   "source": [
    "info = []\n",
    "\n",
    "for _ in range(3):\n",
    "    text = input(\"아이디 비밀번호 ex)유즈 123\")\n",
    "    info.append(text)\n",
    "\n",
    "with open(\"./text.txt\", \"a\") as f:\n",
    "    for line in info:\n",
    "        f.write(line + \"\\n\")\n",
    "\n",
    "# 미리 한줄 읽기\n",
    "#with open(\"./text.txt\", \"r\") as f: \n",
    "#    line = f.readline()\n",
    "#    while line:\n",
    "        print(line.strip()) # 개행문자 제거하여 출력\n",
    "#        line = f.readline()"
   ]
  },
  {
   "cell_type": "code",
   "execution_count": 13,
   "metadata": {},
   "outputs": [
    {
     "name": "stdout",
     "output_type": "stream",
     "text": [
      "유\n",
      "저\n",
      "1\n",
      " \n",
      "1\n",
      "2\n",
      "3\n",
      "\n"
     ]
    }
   ],
   "source": [
    "\n",
    "with open(\"text.txt\", \"r\") as file:\n",
    "    #lines = file.readlines()                 #print 하면 => ['유저1 123\\n', '유저2 456\\n', '유저3 789\\n']\n",
    "    line = file.readline()                  #print 하면 => 유저1 123\n",
    "    #print(lines)\n",
    "    \n",
    "    for line in line:\n",
    "        #print(line)                    #\\n이 자동으로 추가되어있다 그래서 strip()으로 잘라서 라인을 만들어 준다.\n",
    "        print(line.rstrip(\"\\n\"))"
   ]
  },
  {
   "cell_type": "code",
   "execution_count": 46,
   "metadata": {},
   "outputs": [
    {
     "name": "stdout",
     "output_type": "stream",
     "text": [
      "1234\n",
      "1234\n",
      "1234\n",
      "\n"
     ]
    }
   ],
   "source": [
    "#실습1\n",
    "PW = []\n",
    "\n",
    "for _ in range(3):\n",
    "    user_pw = input(\"비밀번호 입력\")        #비밀번호 입력 받아서 추가하기\n",
    "    PW.append(user_pw)\n",
    "\n",
    "with open(\"member.txt\",\"a\") as PWinfo:     #입력 받은 비밀번호를 파일에 추가하기\n",
    "    for line in PW:\n",
    "        PWinfo.write(line + \"\\n\")\n",
    "\n",
    "with open(\"member.txt\",\"r\") as PWinfo:     #파일을 읽는다\n",
    "    print(PWinfo.read())"
   ]
  },
  {
   "cell_type": "code",
   "execution_count": 24,
   "metadata": {},
   "outputs": [
    {
     "name": "stdout",
     "output_type": "stream",
     "text": [
      "['홍길동\\n', '1234']\n",
      "다시 입력하세요\n"
     ]
    }
   ],
   "source": [
    "#실습 2\n",
    "#아이디 비밀번호 입력 받아서 출력하기\n",
    "#readline()해서 나온 값과 입력한 값 일치시키기?\n",
    "ID_input = input(\"이름을 입력하세요\")\n",
    "\n",
    "with open(\"member.txt\",\"r\", encoding=\"utf-8\") as login:\n",
    "    file_name = login.readlines()                            #홍길동\n",
    "    #print(file_name)\n",
    "\n",
    "file_name = []    \n",
    "    \n",
    "if ID_input in file_name:\n",
    "    print(\"로그인 성공\")\n",
    "else:\n",
    "    print(\"다시 입력하세요\")\n",
    "#if file_name == ID_input:\n",
    "#    print(\"로그인 성공\")\n",
    "#else:\n",
    "#    print(\"다시 입력하세요\")"
   ]
  },
  {
   "cell_type": "code",
   "execution_count": 25,
   "metadata": {},
   "outputs": [
    {
     "name": "stdout",
     "output_type": "stream",
     "text": [
      "error\n"
     ]
    }
   ],
   "source": [
    "try:\n",
    "    print(3/0)\n",
    "except:\n",
    "    print(\"error\")    "
   ]
  },
  {
   "cell_type": "code",
   "execution_count": 10,
   "metadata": {},
   "outputs": [
    {
     "name": "stdout",
     "output_type": "stream",
     "text": [
      "정수가 아님! 정수를 입력해 주세요!\n"
     ]
    }
   ],
   "source": [
    "try:\n",
    "    num = int(input('숫자 입력:'))\n",
    "    print(f\"정수 입력 성공:{num}\")\n",
    "except:\n",
    "    print(\"정수가 아님! 정수를 입력해 주세요!\")\n",
    "#if int() == num:\n",
    "#    print(f\"정수 입력 성공:{num}\")"
   ]
  },
  {
   "cell_type": "code",
   "execution_count": 18,
   "metadata": {},
   "outputs": [
    {
     "name": "stdout",
     "output_type": "stream",
     "text": [
      "[0 0 0 0 0 0 0 0 0 0]\n",
      "[0 0 0 0 1 0 0 0 0 0]\n",
      "[[0 0 0 0 0 0 0 0 0 0]]\n",
      "[ 0  1  2  3  4  5  6  7  8  9 10 11 12 13 14 15 16 17 18 19 20 21 22 23\n",
      " 24 25 26 27 28 29 30]\n",
      "[[94 39]\n",
      " [38 12]]\n",
      "[[0.29073238 0.16151826 0.63048107 0.57418631]\n",
      " [0.26435199 0.25416237 0.56726727 0.85681899]]\n"
     ]
    }
   ],
   "source": [
    "# 데이터분석 실습 1\n",
    "import numpy as np\n",
    "x = np.array([0, 0, 0, 0, 0, 0, 0, 0, 0, 0])\n",
    "print(x)\n",
    "x = np.array([0, 0, 0, 0, 1, 0, 0, 0, 0, 0])\n",
    "print(x)\n",
    "x = np.full((1,10), 0)\n",
    "print(x)\n",
    "print(np.arange(0,31))\n",
    "print(np.random.randint(0,100, size=(2,2)))\n",
    "print(np.random.rand(2,4))"
   ]
  },
  {
   "cell_type": "code",
   "execution_count": 80,
   "metadata": {},
   "outputs": [
    {
     "name": "stdout",
     "output_type": "stream",
     "text": [
      "[[35 36 37 38]\n",
      " [39 40 41 42]\n",
      " [43 44 45 46]\n",
      " [47 48 49 50]\n",
      " [51 52 53 54]\n",
      " [55 56 57 58]\n",
      " [59 60 61 62]\n",
      " [63 64 65 66]\n",
      " [67 68 69 70]\n",
      " [71 72 73 74]]\n",
      "[38 42 46 50 54 58 62 66 70 74]\n",
      "[[38]\n",
      " [42]\n",
      " [46]\n",
      " [50]\n",
      " [54]\n",
      " [58]\n",
      " [62]\n",
      " [66]\n",
      " [70]\n",
      " [74]]\n"
     ]
    }
   ],
   "source": [
    "#데이터분석 실습2\n",
    "\n",
    "import numpy as np\n",
    "x = np.arange(35,75)\n",
    "#print(x)\n",
    "print(x.reshape(10,4))\n",
    "y = x.reshape(10,4)\n",
    "#실습 7번 역순으로 출력하기\n",
    "#print(y[::-1])\n",
    "#실습 8번 슬라이싱\n",
    "#print(y[1:9,2:])\n",
    "#실습 9번 슬라이싱\n",
    "print(y[:,3]) # 9번 정답\n",
    "print(y[:,3:]) # 9-1번 정답\n",
    "a = y[:,3:]\n"
   ]
  },
  {
   "cell_type": "code",
   "execution_count": 79,
   "metadata": {},
   "outputs": [
    {
     "name": "stdout",
     "output_type": "stream",
     "text": [
      "[  1   2   3   4   5   7   8   9  10  11  24 100]\n",
      "100\n",
      "1\n",
      "15.333333333333334\n",
      "184\n",
      "5.0\n"
     ]
    }
   ],
   "source": [
    "import numpy as np\n",
    "#numpy2 실습\n",
    "A = [1,1,2,3,4,5,5,5,5,7,8,9,10,11,24,100]\n",
    "\n",
    "New_A=np.unique(A)\n",
    "print(New_A)\n",
    "\n",
    "print(np.max(New_A))\n",
    "print(np.min(New_A))\n",
    "print(np.mean(New_A))\n",
    "print(np.sum(New_A))\n",
    "print(np.median(A))\n"
   ]
  },
  {
   "cell_type": "code",
   "execution_count": null,
   "metadata": {},
   "outputs": [],
   "source": []
  }
 ],
 "metadata": {
  "kernelspec": {
   "display_name": "Python 3",
   "language": "python",
   "name": "python3"
  },
  "language_info": {
   "codemirror_mode": {
    "name": "ipython",
    "version": 3
   },
   "file_extension": ".py",
   "mimetype": "text/x-python",
   "name": "python",
   "nbconvert_exporter": "python",
   "pygments_lexer": "ipython3",
   "version": "3.11.5"
  }
 },
 "nbformat": 4,
 "nbformat_minor": 2
}
