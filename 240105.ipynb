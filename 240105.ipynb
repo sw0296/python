{
 "cells": [
  {
   "cell_type": "code",
   "execution_count": null,
   "metadata": {},
   "outputs": [],
   "source": [
    "#자료구조\n",
    "\n",
    "    \"\"\"\n",
    "    type([1,2])\n",
    "    type([\"str\"])\n",
    "    type((1))\n",
    "    type([\"apple\":1])\n",
    "    type([1,2])\n",
    "    type([1,2])\n",
    "    \n",
    "    \"\"\""
   ]
  },
  {
   "cell_type": "code",
   "execution_count": 42,
   "metadata": {},
   "outputs": [
    {
     "name": "stdout",
     "output_type": "stream",
     "text": [
      "     bcd   a\n"
     ]
    }
   ],
   "source": [
    "#strip 함수\n",
    "mystr = \"a     bcd   a\"\n",
    "#mystr = \"aaaa aa abcda\"\n",
    "newstr = mystr.lstrip('a')\n",
    "print(newstr)"
   ]
  },
  {
   "cell_type": "code",
   "execution_count": 38,
   "metadata": {},
   "outputs": [
    {
     "name": "stdout",
     "output_type": "stream",
     "text": [
      "7\n"
     ]
    }
   ],
   "source": [
    "a=\"00000001010230231\"\n",
    "b=0\n",
    "\n",
    "for i in list(a):\n",
    "    #print(i) # i 가 어떤 역할을 하는지 어떻게 반복되는지 \n",
    "    # print(i)했을때 하나하나 나오는건지?\n",
    "    # if 를 사용해서 i 와 0이 일치하는지 조건문을 만든다\n",
    "    if i == '0':\n",
    "           #일치된 값을 어떻게 카운트 하는지 #새로운 변수를 생성해서 거기다 +1씩 한다.\n",
    "        b=b+1\n",
    "    \n",
    "    else :\n",
    "        break\n",
    "print(b)\n",
    "\n",
    "\n",
    "#if a[0:1] = 0:\n",
    "    #a.count(\"0\")\n",
    "\n",
    "#if a[0]==a[1]:\n",
    "    \n",
    "\n"
   ]
  },
  {
   "cell_type": "code",
   "execution_count": 53,
   "metadata": {},
   "outputs": [
    {
     "name": "stdout",
     "output_type": "stream",
     "text": [
      "1010230231\n",
      "17\n"
     ]
    },
    {
     "data": {
      "text/plain": [
       "7"
      ]
     },
     "execution_count": 53,
     "metadata": {},
     "output_type": "execute_result"
    }
   ],
   "source": [
    "#다른방법\n",
    "a=\"00000001010230231\"\n",
    "\n",
    "def countz(a):\n",
    "    #strip을 활용해서 str의 길이 - str에 앞부분 0을 다 지우고 난 후 길이\n",
    "    return len(a) - len(a.lstrip('0'))\n",
    "\n",
    "print(a.lstrip('0'))\n",
    "print(len(a))\n",
    "len(a.lstrip('0'))\n",
    "countz(a)"
   ]
  },
  {
   "cell_type": "code",
   "execution_count": null,
   "metadata": {},
   "outputs": [],
   "source": [
    "#연속된 0의 개수가 가장 많은 개수를 출력해주세요\n",
    "num=\"12300123000341400000001010230231\"\n",
    "\n"
   ]
  },
  {
   "cell_type": "code",
   "execution_count": 76,
   "metadata": {},
   "outputs": [
    {
     "name": "stdout",
     "output_type": "stream",
     "text": [
      "['ab', ' ', '', ' d effd', 'c']\n"
     ]
    }
   ],
   "source": [
    "A = \"abc cc d effd\"\n",
    "\n",
    "B=A.split(\"c\")\n",
    "#B.insert(1,\"c\")\n",
    "C=B+[\"c\"]\n",
    "print(C)\n",
    "\n",
    "\n"
   ]
  },
  {
   "cell_type": "code",
   "execution_count": null,
   "metadata": {},
   "outputs": [],
   "source": [
    "A = \"abc cc d effd\"\n",
    "result = A"
   ]
  },
  {
   "cell_type": "code",
   "execution_count": 81,
   "metadata": {},
   "outputs": [
    {
     "name": "stdout",
     "output_type": "stream",
     "text": [
      "1 2 3 4\n",
      "1 [2, 3, 4]\n"
     ]
    }
   ],
   "source": [
    "a,b,c,d=[1,2,3,4]\n",
    "print(a,b,c,d)\n",
    "a, *b =[1,2,3,4]\n",
    "print(a,b)\n",
    "\n",
    "\n",
    "#_, *b = [1,2,3,4]\n",
    "#print(b)"
   ]
  },
  {
   "cell_type": "code",
   "execution_count": 110,
   "metadata": {},
   "outputs": [
    {
     "name": "stdout",
     "output_type": "stream",
     "text": [
      "[9]\n",
      "[9, 16]\n"
     ]
    }
   ],
   "source": [
    "mylist = [1,2,3,4]\n",
    "d=[]\n",
    "for i in mylist:\n",
    "    if i >= 3:\n",
    "        \n",
    "        \n",
    "        d.append(i*i)\n",
    "        \n",
    "        print(d)\n",
    "        #print(type(list(a)))\n",
    "        # \n",
    "        # list(map(str,a))\n",
    "        \n"
   ]
  },
  {
   "cell_type": "code",
   "execution_count": 116,
   "metadata": {},
   "outputs": [
    {
     "data": {
      "text/plain": [
       "28.26"
      ]
     },
     "execution_count": 116,
     "metadata": {},
     "output_type": "execute_result"
    }
   ],
   "source": [
    "#lambda람다 -> 함수의 축양형\n",
    "\n",
    "one = lambda r : 3.14*(r**2)\n",
    "one(3)"
   ]
  },
  {
   "cell_type": "code",
   "execution_count": null,
   "metadata": {},
   "outputs": [],
   "source": [
    "my_dict = {'apple'}"
   ]
  },
  {
   "cell_type": "code",
   "execution_count": 2,
   "metadata": {},
   "outputs": [
    {
     "name": "stdout",
     "output_type": "stream",
     "text": [
      "[-11, 0, -7, -20, -27]\n"
     ]
    }
   ],
   "source": [
    "# f => 2*x**3 - 9*x**2\n",
    "# f의 값을 기준으로 x를 정렬 (내림차순)\n",
    "x=[-1,0,1,2,3]\n",
    "y=[]\n",
    "# f값을 먼저구하고 f의 값과 x의 값을 연결시켜야?\n",
    "f = lambda a : 2*a**3 - 9*a**2\n",
    "#f(-1)\n",
    "# 람다로 나온 값을 어떻게 리스트로 만들지 , int를 리스트로 만드는 법\n",
    "for i in x:\n",
    "    \n",
    "    y.append(f(i))\n",
    "print(y)"
   ]
  },
  {
   "cell_type": "code",
   "execution_count": 3,
   "metadata": {},
   "outputs": [
    {
     "name": "stdout",
     "output_type": "stream",
     "text": [
      "[0, 1, -1, 2, 3]\n"
     ]
    }
   ],
   "source": [
    "x = [-1, 0 ,1, 2, 3]\n",
    "b = sorted(x, key = lambda x : 2*x**3 - 9*x**2, reverse = True ) #키를 기준으로 \n",
    "print(b)"
   ]
  },
  {
   "cell_type": "code",
   "execution_count": 8,
   "metadata": {},
   "outputs": [
    {
     "name": "stdout",
     "output_type": "stream",
     "text": [
      "[-1, 0, 1, 2, 4, 6, 8]\n"
     ]
    }
   ],
   "source": [
    "x = [-1, 0 ,1, 4, 2,8,6]\n",
    "a = sorted(x)\n",
    "print(a)"
   ]
  },
  {
   "cell_type": "code",
   "execution_count": 7,
   "metadata": {},
   "outputs": [
    {
     "name": "stdout",
     "output_type": "stream",
     "text": [
      "[-1, 0, 1, 2, 4, 6, 8]\n"
     ]
    }
   ],
   "source": [
    "x = [-1, 0 ,1, 4, 2,8,6]\n",
    "a = sorted(x,key = lambda y : y*-1)           # key이하를 기준으로 작은 수 순서로 분류한다\n",
    "# a = sorted(x,key = lambda y : y*-1,reverse=True )  # ,reverse 를 붙이고 뒤에 True를 붙이면 큰 순서로 분류한다\n",
    "print(a)"
   ]
  },
  {
   "cell_type": "code",
   "execution_count": null,
   "metadata": {},
   "outputs": [],
   "source": [
    "class movie:\n",
    "    def __init__(self,name):\n",
    "        self.name = name\n",
    "    \n",
    "    def likemovie(self):\n",
    "        print(f\"I love{self.name}\")\n",
    "        \n",
    "SFmovie = movie(\"SFmovie\")\n",
    "\n",
    "\n",
    "fantasyMovie = movie(\"fantasyMovie\")\n",
    "\n",
    "\n"
   ]
  },
  {
   "cell_type": "code",
   "execution_count": null,
   "metadata": {},
   "outputs": [],
   "source": [
    "class FB_Player:\n",
    "    def __init__(self,myname,age,backnumber,position,club):\n",
    "        self.name = myname\n",
    "        self.age = age\n",
    "        self.\n",
    "        self.\n",
    "        self."
   ]
  },
  {
   "cell_type": "code",
   "execution_count": 24,
   "metadata": {},
   "outputs": [
    {
     "name": "stdout",
     "output_type": "stream",
     "text": [
      "60\n",
      "40\n",
      "500\n",
      "5.0\n"
     ]
    }
   ],
   "source": [
    "class math:\n",
    "    def __init__(self,first,second):\n",
    "        self.number1 = first\n",
    "        self.number2 = second\n",
    "    \n",
    "    def math_plus(self):\n",
    "        print(self.number1+self.number2)\n",
    "    def math_mius(self):\n",
    "        print(self.number1-self.number2)\n",
    "    def math_multiplication(self):\n",
    "        print(self.number1*self.number2)\n",
    "    def math_division(self):\n",
    "        print(self.number1/self.number2)\n",
    "    def Calc(self):\n",
    "        print()\n",
    "                            # Calc 메서드는 두수를 입력받아서 어떤 연산을 할지 정한다.\n",
    "                            # 두수를 입력받을려면 input을 써야겠지?\n",
    "                            # argument에 input을 넣어도 되나?\n",
    "                            # Calc 매서드에 뭘 넣어야 하나?\n",
    "x=int(input())\n",
    "y=int(input())\n",
    "num1=math(x,y)    \n",
    "\n",
    "\n",
    "num1.math_plus()\n",
    "num1.math_mius()\n",
    "num1.math_multiplication()\n",
    "num1.math_division()"
   ]
  },
  {
   "cell_type": "markdown",
   "metadata": {},
   "source": [
    "실습1. 사칙연산클래스만들기\n",
    "조건)\n",
    " add 메서드는 두 수를 더한 결과값을 반환한다.\n",
    " sub 메서드는 두수를 뺀 결과값을 반환한다.\n",
    " mul 메서드는 두수를 곱한 결과값을 반환한다.\n",
    " div 메서드는 두수를 나눈 결과값을 반환한다.\n",
    "Calc 메서드는 두수를 입력받아서 어떤 연산을 할지 정한다. "
   ]
  },
  {
   "cell_type": "code",
   "execution_count": 10,
   "metadata": {},
   "outputs": [
    {
     "ename": "TypeError",
     "evalue": "calculator() takes no arguments",
     "output_type": "error",
     "traceback": [
      "\u001b[1;31m---------------------------------------------------------------------------\u001b[0m",
      "\u001b[1;31mTypeError\u001b[0m                                 Traceback (most recent call last)",
      "Cell \u001b[1;32mIn[10], line 32\u001b[0m\n\u001b[0;32m     29\u001b[0m       \u001b[38;5;28mprint\u001b[39m(x \u001b[38;5;241m*\u001b[39m y)\n\u001b[0;32m     30\u001b[0m   \u001b[38;5;66;03m#나눗셈\u001b[39;00m\n\u001b[0;32m     31\u001b[0m \u001b[38;5;66;03m#mycalc.calc()\u001b[39;00m\n\u001b[1;32m---> 32\u001b[0m mycalc \u001b[38;5;241m=\u001b[39m \u001b[43mcalculator\u001b[49m\u001b[43m(\u001b[49m\u001b[38;5;124;43m\"\u001b[39;49m\u001b[38;5;124;43m10\u001b[39;49m\u001b[38;5;124;43m\"\u001b[39;49m\u001b[43m,\u001b[49m\u001b[38;5;124;43m\"\u001b[39;49m\u001b[38;5;124;43m20\u001b[39;49m\u001b[38;5;124;43m\"\u001b[39;49m\u001b[43m)\u001b[49m\n",
      "\u001b[1;31mTypeError\u001b[0m: calculator() takes no arguments"
     ]
    }
   ],
   "source": [
    "class calculator:\n",
    "  x=0\n",
    "  y=0\n",
    "  isEnd = True\n",
    "  def calc(self):\n",
    "    while(self.isEnd):\n",
    "      cmd = input(\"연산? 1.add, 2.sub, 3.multi, 4. devide, 5.종료\")\n",
    "      if(cmd == \"5\"):\n",
    "        break\n",
    "      else:\n",
    "        x,y=map(int,(input(\"두 정수를 x y로 입력해주세요\").split()))\n",
    "        if(cmd == \"1\"):\n",
    "          self.add(x,y)\n",
    "        elif(cmd == \"2\"):\n",
    "          self.sub(x,y)\n",
    "        elif(cmd == \"3\"):\n",
    "          self.multi(x,y)\n",
    "        elif(cmd == \"4\"):\n",
    "          self.div(x,y)\n",
    "        else:\n",
    "          print(\"다시 입력해주세요\")\n",
    "  def add(self,x : int, y : int) :\n",
    "      print(x + y)\n",
    "  #뺄셈\n",
    "  def sub(self,x, y) :\n",
    "      print(x - y)\n",
    "  #곱셈\n",
    "  def multi(self,x, y) :\n",
    "      print(x * y)\n",
    "  #나눗셈\n",
    "#mycalc.calc()\n"
   ]
  },
  {
   "cell_type": "code",
   "execution_count": 13,
   "metadata": {},
   "outputs": [
    {
     "name": "stdout",
     "output_type": "stream",
     "text": [
      "3\n"
     ]
    }
   ],
   "source": [
    "class calculator:\n",
    "  x=0\n",
    "  y=0\n",
    "  isEnd = True              #isEnd = True 를 넣어줌으로써 while문이 반복되도록 한다(무한루프)\n",
    "  def calc(self):\n",
    "    while(self.isEnd):      #self.isEnd는 while의 변수?\n",
    "      cmd = input(\"연산? 1.add, 2.sub, 3.multi, 4. devide, 5.종료\")\n",
    "      if(cmd == \"5\"):\n",
    "        break\n",
    "      else:\n",
    "        x,y=map(int,(input(\"두 정수를 x y로 입력해주세요\").split()))\n",
    "        if(cmd == \"1\"):\n",
    "          self.add(x,y)\n",
    "        elif(cmd == \"2\"):\n",
    "          self.sub(x,y)\n",
    "        elif(cmd == \"3\"):\n",
    "          self.multi(x,y)\n",
    "        elif(cmd == \"4\"):\n",
    "          self.div(x,y)\n",
    "        else:\n",
    "          print(\"다시 입력해주세요\")\n",
    "  def add(self,x, y) :\n",
    "      print(x + y)\n",
    "  #뺄셈\n",
    "  def sub(self,x, y) :\n",
    "      print(x - y)\n",
    "  #곱셈\n",
    "  def multi(self,x, y) :\n",
    "      print(x * y)\n",
    "  #나눗셈\n",
    "  def div(self, x,y) :\n",
    "    if(y == 0):\n",
    "      print(\"0으로 나눌 수 없습니다.\")\n",
    "    else:\n",
    "      print(x / y)\n",
    "mycalc = calculator()\n",
    "mycalc.calc()"
   ]
  },
  {
   "cell_type": "code",
   "execution_count": 7,
   "metadata": {},
   "outputs": [
    {
     "name": "stdout",
     "output_type": "stream",
     "text": [
      "가게의 위치:busan\n",
      "\n",
      "food\n",
      "\n",
      "('busan', 'homeplus_busan', 'food', 100)\n",
      "\n"
     ]
    }
   ],
   "source": [
    "class supermarket:\n",
    "    def __init__(self,location,name,product,customer):\n",
    "        self.location = location\n",
    "        self.name = name\n",
    "        self.product = product\n",
    "        self.customer = customer\n",
    "        \n",
    "    def prin_location(self):\n",
    "        print(f\"가게의 위치:{self.location}\")    \n",
    "    def change_category(self):    #받은 인자로 파는 물건을 바꾸는 함수\n",
    "        print() \n",
    "    def show_list(self):\n",
    "        print(self.product)\n",
    "    def enter_customer(self):     #손님의 수를 1씩 늘리는 함수\n",
    "        print()\n",
    "    def show_info(self):\n",
    "        print(f\"{self.location, self.name, self.product, self.customer}\")\n",
    "    def show_supermarket_count(self):            #슈퍼마켓 클래스 인스턴스 개수 출력\n",
    "        print()\n",
    "        \n",
    "homeplus=supermarket(\"busan\",\"homeplus_busan\",\"food\",100)\n",
    "Emart=supermarket(\"mapo\",\"Emart_mapo\",\"trash\",1)\n",
    "\n",
    "homeplus.prin_location()\n",
    "homeplus.change_category()\n",
    "homeplus.show_list()\n",
    "homeplus.enter_customer()\n",
    "homeplus.show_info()\n",
    "homeplus.show_supermarket_count()"
   ]
  }
 ],
 "metadata": {
  "kernelspec": {
   "display_name": "base",
   "language": "python",
   "name": "python3"
  },
  "language_info": {
   "codemirror_mode": {
    "name": "ipython",
    "version": 3
   },
   "file_extension": ".py",
   "mimetype": "text/x-python",
   "name": "python",
   "nbconvert_exporter": "python",
   "pygments_lexer": "ipython3",
   "version": "3.12.0"
  }
 },
 "nbformat": 4,
 "nbformat_minor": 2
}
