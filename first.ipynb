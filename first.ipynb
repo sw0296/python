{
 "cells": [
  {
   "cell_type": "code",
   "execution_count": 1,
   "metadata": {},
   "outputs": [
    {
     "name": "stdout",
     "output_type": "stream",
     "text": [
      "hello world\n"
     ]
    }
   ],
   "source": [
    "print(\"hello world\")"
   ]
  },
  {
   "cell_type": "code",
   "execution_count": 2,
   "metadata": {},
   "outputs": [],
   "source": [
    "a=1\n",
    "b=2"
   ]
  },
  {
   "cell_type": "code",
   "execution_count": 3,
   "metadata": {},
   "outputs": [
    {
     "data": {
      "text/plain": [
       "3"
      ]
     },
     "execution_count": 3,
     "metadata": {},
     "output_type": "execute_result"
    }
   ],
   "source": [
    "a+b"
   ]
  },
  {
   "cell_type": "markdown",
   "metadata": {},
   "source": [
    "# MarkDown 사용법 총정리\n",
    "마크다운(MarkDown)에 대해서 알고 계신가요?파일 확장자가 .md로 된 파일을 보셨나요?웹 개발을 하면서 아마 README.md라는 이름의 파일을 한 번은 보셨을텐데, ...\n",
    "# https://heropy.blog/2017/09/30/markdown/"
   ]
  },
  {
   "cell_type": "markdown",
   "metadata": {},
   "source": []
  },
  {
   "cell_type": "code",
   "execution_count": 4,
   "metadata": {},
   "outputs": [
    {
     "name": "stdout",
     "output_type": "stream",
     "text": [
      "['False', 'None', 'True', 'and', 'as', 'assert', 'async', 'await', 'break', 'class', 'continue', 'def', 'del', 'elif', 'else', 'except', 'finally', 'for', 'from', 'global', 'if', 'import', 'in', 'is', 'lambda', 'nonlocal', 'not', 'or', 'pass', 'raise', 'return', 'try', 'while', 'with', 'yield']\n"
     ]
    }
   ],
   "source": [
    "import keyword\n",
    "print (keyword.kwlist)"
   ]
  },
  {
   "cell_type": "code",
   "execution_count": 1,
   "metadata": {},
   "outputs": [
    {
     "data": {
      "text/plain": [
       "3.14"
      ]
     },
     "execution_count": 1,
     "metadata": {},
     "output_type": "execute_result"
    }
   ],
   "source": [
    "abs(3.14)"
   ]
  },
  {
   "cell_type": "code",
   "execution_count": 1,
   "metadata": {},
   "outputs": [
    {
     "name": "stdout",
     "output_type": "stream",
     "text": [
      "Hello world\n",
      "hello, world\n",
      "Helloworld\n",
      "Hello+world\n",
      "Hello + world\n"
     ]
    }
   ],
   "source": [
    "print(\"Hello\", \"world\")\n",
    "print(\"hello, world\")\n",
    "print(\"Hello\", \"world\", sep=\"\")\n",
    "print(\"Hello\", \"world\", sep=\"+\")\n",
    "print(\"Hello\",\"+\",\"world\") # 공백이 자동으로 들어감"
   ]
  },
  {
   "cell_type": "code",
   "execution_count": 2,
   "metadata": {},
   "outputs": [
    {
     "name": "stdout",
     "output_type": "stream",
     "text": [
      "helloworld\n",
      "hello 2024\n",
      "hello2024\n",
      "hello\n",
      "world\n",
      "\n",
      "helloworld\n"
     ]
    }
   ],
   "source": [
    "print(\"hello\"+\"world\")\n",
    "print(\"hello\",2024)  \n",
    "print(\"hello\"+\"2024\") #위에 있는 2024와 달리 이 2024는 문자열로 인식한듯 #print(hello+2024)는 안됨\n",
    "                      # 문자열 + 문자열 (가능) / 문자열 + (int형)숫자 (불가능)\n",
    "print(\"hello\")\n",
    "print(\"world\")\n",
    "print()                # 줄 바꿈 역할\n",
    "print(\"hello\", end=\"\") #엔터 없이 출력\n",
    "print(\"world\")\n"
   ]
  },
  {
   "cell_type": "code",
   "execution_count": 20,
   "metadata": {},
   "outputs": [
    {
     "name": "stdout",
     "output_type": "stream",
     "text": [
      "이름은 성우, 나이는 28, 사는곳은 busan\n"
     ]
    }
   ],
   "source": [
    "#f문자열 포매팅\n",
    "myname = \"성우\"\n",
    "age = 28\n",
    "add = \"busan\"\n",
    "\n",
    "print(f\"이름은 {myname}, 나이는 {age}, 사는곳은 {add}\")  #문자열 포매팅"
   ]
  },
  {
   "cell_type": "code",
   "execution_count": null,
   "metadata": {},
   "outputs": [],
   "source": [
    "#변수\n",
    "\n",
    "a= \"성우\"\n",
    "b= 97\n",
    "# a 와 b는 데이터를 담는 변수\n",
    "# \"성우\" 와 97은 변수에 저장할 데이터\n",
    "# 변수는 데이터를 담는 빈상자, 변하는 값\n",
    "# 키워드나 print()와 같은 함수명은 변수로 사용 안됨!"
   ]
  },
  {
   "cell_type": "code",
   "execution_count": 23,
   "metadata": {},
   "outputs": [],
   "source": [
    "#자료형\n",
    "a = input()\n",
    "a_modified=int(a)\n",
    "\n",
    "a = int(input(\"숫자를 입력해 주세요\"))"
   ]
  },
  {
   "cell_type": "code",
   "execution_count": 27,
   "metadata": {},
   "outputs": [
    {
     "ename": "SyntaxError",
     "evalue": "unexpected character after line continuation character (1645391201.py, line 1)",
     "output_type": "error",
     "traceback": [
      "\u001b[1;36m  Cell \u001b[1;32mIn[27], line 1\u001b[1;36m\u001b[0m\n\u001b[1;33m    abd\\n\\r\u001b[0m\n\u001b[1;37m        ^\u001b[0m\n\u001b[1;31mSyntaxError\u001b[0m\u001b[1;31m:\u001b[0m unexpected character after line continuation character\n"
     ]
    }
   ],
   "source": [
    "abd\\n\\r\n",
    "\n",
    "print('str\\'\\\"\\)"
   ]
  },
  {
   "cell_type": "code",
   "execution_count": 5,
   "metadata": {},
   "outputs": [
    {
     "name": "stdout",
     "output_type": "stream",
     "text": [
      "str\"\n",
      "안녕\n",
      "하세요\n",
      "안녕\t하세요\n"
     ]
    }
   ],
   "source": [
    "print('str\\\"')\n",
    "print(\"안녕\\n하세요\")\n",
    "print(\"안녕\\t하세요\")"
   ]
  },
  {
   "cell_type": "code",
   "execution_count": 49,
   "metadata": {},
   "outputs": [
    {
     "name": "stdout",
     "output_type": "stream",
     "text": [
      "|\\_/|\n",
      "|q p|   /}\n",
      "( o )\"\"\"\\\n",
      "|\"^\"'    |\n",
      "||_/=\\\\__|\n"
     ]
    }
   ],
   "source": [
    "print('|\\_/|')\n",
    "print('|q p|   /}')\n",
    "print('( o )\"\"\"\\\\')\n",
    "print('|\"^\"\\'    |')\n",
    "print('||_/=\\\\\\__|')"
   ]
  },
  {
   "cell_type": "code",
   "execution_count": 66,
   "metadata": {},
   "outputs": [
    {
     "name": "stdout",
     "output_type": "stream",
     "text": [
      "|\\_/|\n",
      "|q p|   /}\n",
      "( o )\"\"\"\\\n",
      "|\"^\"'    |\n",
      "||_/=\\\\__|\n"
     ]
    }
   ],
   "source": [
    "print(\"|\\\\_/|\")\n",
    "print(\"|q p|   /}\")\n",
    "print(\"( o )\\\"\\\"\\\"\\\\\")\n",
    "print(\"|\\\"^\\\"\\'    |\")\n",
    "print(\"||_/=\\\\\\\\__|\")"
   ]
  },
  {
   "cell_type": "code",
   "execution_count": null,
   "metadata": {},
   "outputs": [],
   "source": [
    "#사직연산자\n"
   ]
  },
  {
   "cell_type": "code",
   "execution_count": 2,
   "metadata": {},
   "outputs": [
    {
     "name": "stdout",
     "output_type": "stream",
     "text": [
      "abc\n",
      "apple\n",
      "elppa\n"
     ]
    }
   ],
   "source": [
    "#문자열 인덱싱\n",
    "\"apple\"[0:4] # 0부터 3번째까지 나온다 => a 부터 4번째 \"l\" 전까지 나온다 \n",
    "\"apple\"[-5:-1]  #모두다 'appl' 이 나온다\n",
    "\n",
    "\"apple\"[0:5:2] #'ape'이 나온다\n",
    "\"가나다라마바사\"[0:7] #'가나다라마바사' 가 나온다 = \"가나다라마바사\"[:] 해도 똑같은 결과가 나온다\n",
    "\"가나다라마바사\"[0:7:2] \n",
    "print(\"abc\")\n",
    "# 0번째부터 7번째 전까지 2칸씩 뛰어서'가다마사' 가 나온다\n",
    "\"\"\"\n",
    "0번째부터 7번째 전까지 2칸씩 뛰어서'가다마사' 가 나온다\n",
    "\"\"\"\n",
    "'''\n",
    "0번째부터 7번째 전까지 2칸씩 뛰어서'가다마사' 가 나온다\n",
    "'''\n",
    "\n",
    "\n",
    "print(\"apple\"[:]) #apple이 온전히 나온다\n",
    "print(\"apple\"[::-1]) #apple을 거꾸로 표현할려면\n"
   ]
  },
  {
   "cell_type": "code",
   "execution_count": 98,
   "metadata": {},
   "outputs": [
    {
     "name": "stdout",
     "output_type": "stream",
     "text": [
      "안녕하세요! 홍길동님 (100세)\n"
     ]
    }
   ],
   "source": [
    "name=str(input(\"이름을 입력하세요.\"))\n",
    "age=int(input(\"나이를 입력하세요.\"))\n",
    "print(f\"안녕하세요! {name}님 ({age}세)\")"
   ]
  },
  {
   "cell_type": "code",
   "execution_count": 102,
   "metadata": {},
   "outputs": [
    {
     "name": "stdout",
     "output_type": "stream",
     "text": [
      "올해는2023년, 홍길동님의 나이는 14세 입니다.\n"
     ]
    }
   ],
   "source": [
    "name=str(input(\"이름을 입력하세요.\"))\n",
    "birth=int(input(\"태어난 년도를 입력하세요.\"))\n",
    "year=int(input(\"올해 년도를 입력하세요.\"))\n",
    "print(f\"올해는{year}년, {name}님의 나이는 {year-birth+1}세 입니다.\")"
   ]
  },
  {
   "cell_type": "code",
   "execution_count": 8,
   "metadata": {},
   "outputs": [
    {
     "name": "stdout",
     "output_type": "stream",
     "text": [
      "738\n",
      "615\n",
      "492\n",
      "56088\n",
      "4\n",
      "5\n",
      "6\n"
     ]
    }
   ],
   "source": [
    "#실습4 나의 풀이\n",
    "first=input()\n",
    "second=input()\n",
    "#print(int(first[:])*int(second[:-1]))\n",
    "print(int(first)*int(second[-1]))\n",
    "print(int(first)*int(second[-2:-1]))\n",
    "print(int(first)*int(second[-3:-2]))\n",
    "print(int(first)*int(second))\n",
    "print(second[0])\n",
    "print(second[1])\n",
    "print(second[2])\n",
    "# print(int(second[-1])) = 5\n",
    "# print(int(second[-2:-1])) = 8\n",
    "# print(int(second[-3:-2])) = 3\n",
    "\n",
    "#print(int(first)*int(second))"
   ]
  },
  {
   "cell_type": "code",
   "execution_count": 3,
   "metadata": {},
   "outputs": [
    {
     "name": "stdout",
     "output_type": "stream",
     "text": [
      "2360\n",
      "3776\n",
      "1416\n",
      "181720\n"
     ]
    }
   ],
   "source": [
    "#실습4 정답\n",
    "in1 = input()\n",
    "in2 = input()\n",
    "\n",
    "print(int(in1)*int(in2[2]))\n",
    "print(int(in1)*int(in2[1]))\n",
    "print(int(in1)*int(in2[0]))\n",
    "print(int(in1)*int(in2))"
   ]
  },
  {
   "cell_type": "code",
   "execution_count": 14,
   "metadata": {},
   "outputs": [
    {
     "name": "stdout",
     "output_type": "stream",
     "text": [
      "[1, 2, 3, 5, 6]\n",
      "['자장면', '떡복이']\n",
      "자장면\n"
     ]
    }
   ],
   "source": [
    "#리스트\n",
    "a=[1,2,3,6,5]\n",
    "b=[\"자장면\", \"떡복이\"]\n",
    "a.sort()\n",
    "#a.reverse()\n",
    "print(a)\n",
    "print(b)\n",
    "print(b[0])\n"
   ]
  },
  {
   "cell_type": "code",
   "execution_count": 43,
   "metadata": {},
   "outputs": [
    {
     "name": "stdout",
     "output_type": "stream",
     "text": [
      "orange\n",
      "['blue', 'indigo', 'orange', 'purple', 'red', 'yellow']\n",
      "['blue', 'indigo', 'orange', 'purple', 'red', 'yellow', 'darkgreen']\n"
     ]
    }
   ],
   "source": [
    "rainbow = ['red', 'orange', 'yellow', 'blue', 'indigo', 'purple']\n",
    "\n",
    "print(rainbow[1])\n",
    "rainbow.sort()\n",
    "print(rainbow)\n",
    "rainbow.append(\"darkgreen\")\n",
    "print(rainbow)\n"
   ]
  },
  {
   "cell_type": "code",
   "execution_count": 7,
   "metadata": {},
   "outputs": [
    {
     "name": "stdout",
     "output_type": "stream",
     "text": [
      "a가 b보다 크다\n"
     ]
    }
   ],
   "source": [
    "#조건문\n",
    "\n",
    "a = 4\n",
    "b = 3\n",
    "\n",
    "if a>b:\n",
    "    print(\"a가 b보다 크다\")"
   ]
  },
  {
   "cell_type": "code",
   "execution_count": 59,
   "metadata": {},
   "outputs": [
    {
     "name": "stdout",
     "output_type": "stream",
     "text": [
      "홀수\n"
     ]
    }
   ],
   "source": [
    "a = int(input())   #그냥 a=input() 하면 str 값이 나온다\n",
    "\n",
    "if (a % 2) == 1 :\n",
    "    print(\"홀수\")\n",
    "if (a % 2) == 0 :\n",
    "    print(\"짝수\")"
   ]
  },
  {
   "cell_type": "code",
   "execution_count": 75,
   "metadata": {},
   "outputs": [
    {
     "name": "stdout",
     "output_type": "stream",
     "text": [
      "True\n",
      "1\n"
     ]
    },
    {
     "data": {
      "text/plain": [
       "False"
      ]
     },
     "execution_count": 75,
     "metadata": {},
     "output_type": "execute_result"
    }
   ],
   "source": [
    "print(11 % 2 == 1)\n",
    "\n",
    "print(11 % 2)==1 #잘못된 방법\n"
   ]
  },
  {
   "cell_type": "code",
   "execution_count": 87,
   "metadata": {},
   "outputs": [
    {
     "name": "stdout",
     "output_type": "stream",
     "text": [
      "E\n"
     ]
    }
   ],
   "source": [
    "score=int(input(\"점수입력\"))\n",
    "\n",
    "if score >= 90:\n",
    "    print(\"A\")\n",
    "elif score >= 80:\n",
    "    print(\"B\")\n",
    "elif score >= 70:\n",
    "    print(\"C\")\n",
    "elif score >= 60:\n",
    "    print(\"D\")\n",
    "else:\n",
    "    print(\"E\")"
   ]
  },
  {
   "cell_type": "code",
   "execution_count": 97,
   "metadata": {},
   "outputs": [
    {
     "name": "stdout",
     "output_type": "stream",
     "text": [
      "75의 현금 요금은 무료입니다.\n"
     ]
    }
   ],
   "source": [
    "age=int(input(\"나이를 입력해 주세요:\"))\n",
    "b=str(input(\"('카드' 또는 '현금'만 입력):\")) #pay로 바꾸는게 좋겠다.\n",
    "\n",
    "if age >= 75:\n",
    "    if b == \"카드\":\n",
    "        print(f\"{age}의 카드 요금은 무료입니다.\")\n",
    "    else:\n",
    "        print(f\"{age}의 현금 요금은 무료입니다.\")\n",
    "elif age >= 20:\n",
    "    if b == \"카드\":\n",
    "        print(f\"{age}의 카드 요금은 1200원 입니다.\")\n",
    "    else:\n",
    "        print(f\"{age}의 현금 요금은 1300원 입니다.\")\n",
    "elif age >= 14:\n",
    "    if b == \"카드\":\n",
    "        print(f\"{age}의 카드 요금은 720원 입니다.\")\n",
    "    else:\n",
    "        print(f\"{age}의 현금 요금은 1000원 입니다.\")\n",
    "elif age >= 8:\n",
    "    if b == \"카드\":\n",
    "        print(f\"{age}의 카드 요금은 450원 입니다.\")\n",
    "    else:\n",
    "        print(f\"{age}의 현금 요금은 450원 입니다.\")\n",
    "else:\n",
    "    if b == \"카드\":\n",
    "        print(f\"{age}의 카드 요금은 무료입니다.\")\n",
    "    else:\n",
    "        print(f\"{age}의 현금 요금은 무료입니다.\")"
   ]
  },
  {
   "cell_type": "code",
   "execution_count": 109,
   "metadata": {},
   "outputs": [
    {
     "name": "stdout",
     "output_type": "stream",
     "text": [
      "['a', 'b', 'c']\n",
      "['a', 'b', 'c']\n",
      "['c', 'b', 'a']\n"
     ]
    }
   ],
   "source": [
    "print(list(\"abc\"))\n",
    "\n",
    "mylist = list(\"abc\")\n",
    "print(mylist)\n",
    "\"\".join(mylist)\n",
    "\n",
    "mylist.reverse()\n",
    "print(mylist)\n",
    "\n"
   ]
  },
  {
   "cell_type": "code",
   "execution_count": 111,
   "metadata": {},
   "outputs": [
    {
     "name": "stdout",
     "output_type": "stream",
     "text": [
      "cba\n"
     ]
    }
   ],
   "source": [
    "mylist = list(\"abc\")\n",
    "reversed_list = \"\".join(reversed(mylist))\n",
    "print(reversed_list)"
   ]
  }
 ],
 "metadata": {
  "kernelspec": {
   "display_name": "Python 3",
   "language": "python",
   "name": "python3"
  },
  "language_info": {
   "codemirror_mode": {
    "name": "ipython",
    "version": 3
   },
   "file_extension": ".py",
   "mimetype": "text/x-python",
   "name": "python",
   "nbconvert_exporter": "python",
   "pygments_lexer": "ipython3",
   "version": "3.12.0"
  }
 },
 "nbformat": 4,
 "nbformat_minor": 2
}
