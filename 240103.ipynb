{
 "cells": [
  {
   "cell_type": "code",
   "execution_count": 49,
   "metadata": {},
   "outputs": [
    {
     "name": "stdout",
     "output_type": "stream",
     "text": [
      "['a', 'b', 'c']\n"
     ]
    }
   ],
   "source": [
    "a=list(\"abc\")\n",
    "print(a)"
   ]
  },
  {
   "cell_type": "code",
   "execution_count": 154,
   "metadata": {},
   "outputs": [
    {
     "name": "stdout",
     "output_type": "stream",
     "text": [
      "abc\n"
     ]
    }
   ],
   "source": [
    "a=list(\"abc\")\n",
    "#print(a)\n",
    "\n",
    "list_=['a','b','c']\n",
    "mystr=\"\"\n",
    "for str in list_:\n",
    "    mystr=mystr+str\n",
    "    #TypeError: unsupported operand(연산자) type(s) for +: 'int' and 'str' => 연산자가 달라 + 할 수 없다. \n",
    "print(mystr)"
   ]
  },
  {
   "cell_type": "code",
   "execution_count": 14,
   "metadata": {},
   "outputs": [
    {
     "name": "stdout",
     "output_type": "stream",
     "text": [
      "3\n",
      "4\n",
      "5\n",
      "6\n",
      "7\n",
      "8\n",
      "9\n",
      "apei e\n",
      "10\n",
      "9\n",
      "8\n",
      "7\n",
      "6\n",
      "5\n",
      "4\n",
      "3\n",
      "2\n",
      "1\n",
      "0\n"
     ]
    }
   ],
   "source": [
    "list(range(10))\n",
    "\n",
    "for i in range(3,10):\n",
    "    print(i)\n",
    "    \n",
    "mystr = \"apple is red\"\n",
    "print(mystr[0:12:2]) #print(mystr[::2])도 가능\n",
    "\n",
    "for i in range(10,-1,-1):\n",
    "    print(i)"
   ]
  },
  {
   "cell_type": "code",
   "execution_count": 23,
   "metadata": {},
   "outputs": [
    {
     "name": "stdout",
     "output_type": "stream",
     "text": [
      "[0, 1, 2, 3, 4]\n"
     ]
    }
   ],
   "source": [
    "a=list(range(0,5))\n",
    "print(a)"
   ]
  },
  {
   "cell_type": "code",
   "execution_count": 25,
   "metadata": {},
   "outputs": [
    {
     "name": "stdout",
     "output_type": "stream",
     "text": [
      "10\n"
     ]
    }
   ],
   "source": [
    "a=int(input(\"어디까지 계산할까요?\"))\n",
    "add=list(range(0,a+1))\n",
    "plus=0\n",
    "for c in add:\n",
    "    plus=plus+c\n",
    "\n",
    "print(plus)"
   ]
  },
  {
   "cell_type": "code",
   "execution_count": 32,
   "metadata": {},
   "outputs": [
    {
     "name": "stdout",
     "output_type": "stream",
     "text": [
      "10\n",
      "9\n",
      "8\n",
      "7\n",
      "6\n",
      "5\n",
      "4\n",
      "3\n",
      "2\n",
      "1\n",
      "발사!!\n"
     ]
    }
   ],
   "source": [
    "count=int(input(\"몇 초?\"))\n",
    "for i in range(count,0,-1):         #range(시작값,끝값+1,증가/감소 값) \n",
    "    print(i)\n",
    "    if i == 1:\n",
    "        print(\"발사!!\")"
   ]
  },
  {
   "cell_type": "code",
   "execution_count": 33,
   "metadata": {},
   "outputs": [
    {
     "name": "stdout",
     "output_type": "stream",
     "text": [
      "3 * 1= 3\n",
      "3 * 2= 6\n",
      "3 * 3= 9\n",
      "3 * 4= 12\n",
      "3 * 5= 15\n",
      "3 * 6= 18\n",
      "3 * 7= 21\n",
      "3 * 8= 24\n",
      "3 * 9= 27\n"
     ]
    }
   ],
   "source": [
    "g=int(input(\"몇 단을 출력할까요?\"))\n",
    "\n",
    "for i in range(1,10):\n",
    "    print(f\"{g} * {i}= {g * i}\") "
   ]
  },
  {
   "cell_type": "code",
   "execution_count": 34,
   "metadata": {},
   "outputs": [
    {
     "name": "stdout",
     "output_type": "stream",
     "text": [
      "안녕하세요\n",
      "안녕하세요\n",
      "안녕하세요\n",
      "안녕하세요\n",
      "안녕하세요\n",
      "안녕하세요\n",
      "안녕하세요\n",
      "안녕하세요\n",
      "안녕하세요\n",
      "안녕하세요\n"
     ]
    }
   ],
   "source": [
    "for _ in range(10): # 아무것도 안쓰고 싶으면 i대신 _도 사용가능\n",
    "    print(\"안녕하세요\")"
   ]
  },
  {
   "cell_type": "code",
   "execution_count": 42,
   "metadata": {},
   "outputs": [
    {
     "name": "stdout",
     "output_type": "stream",
     "text": [
      "y: 0, x: 0\n",
      "y: 0, x: 1\n",
      "\n",
      "y: 1, x: 0\n",
      "y: 1, x: 1\n",
      "\n",
      "y: 2, x: 0\n",
      "y: 2, x: 1\n",
      "\n"
     ]
    }
   ],
   "source": [
    "for y in range(3):\n",
    "    for x in range(2):\n",
    "        print(f\"y: {y}, x: {x}\")\n",
    "    print()"
   ]
  },
  {
   "cell_type": "code",
   "execution_count": 56,
   "metadata": {},
   "outputs": [
    {
     "name": "stdout",
     "output_type": "stream",
     "text": [
      "1 * 1= 1\n",
      "1 * 2= 2\n",
      "1 * 3= 3\n",
      "1 * 4= 4\n",
      "1 * 5= 5\n",
      "1 * 6= 6\n",
      "1 * 7= 7\n",
      "1 * 8= 8\n",
      "1 * 9= 9\n",
      "\n",
      "2 * 1= 2\n",
      "2 * 2= 4\n",
      "2 * 3= 6\n",
      "2 * 4= 8\n",
      "2 * 5= 10\n",
      "2 * 6= 12\n",
      "2 * 7= 14\n",
      "2 * 8= 16\n",
      "2 * 9= 18\n",
      "\n",
      "3 * 1= 3\n",
      "3 * 2= 6\n",
      "3 * 3= 9\n",
      "3 * 4= 12\n",
      "3 * 5= 15\n",
      "3 * 6= 18\n",
      "3 * 7= 21\n",
      "3 * 8= 24\n",
      "3 * 9= 27\n",
      "\n",
      "4 * 1= 4\n",
      "4 * 2= 8\n",
      "4 * 3= 12\n",
      "4 * 4= 16\n",
      "4 * 5= 20\n",
      "4 * 6= 24\n",
      "4 * 7= 28\n",
      "4 * 8= 32\n",
      "4 * 9= 36\n",
      "\n",
      "5 * 1= 5\n",
      "5 * 2= 10\n",
      "5 * 3= 15\n",
      "5 * 4= 20\n",
      "5 * 5= 25\n",
      "5 * 6= 30\n",
      "5 * 7= 35\n",
      "5 * 8= 40\n",
      "5 * 9= 45\n",
      "\n",
      "6 * 1= 6\n",
      "6 * 2= 12\n",
      "6 * 3= 18\n",
      "6 * 4= 24\n",
      "6 * 5= 30\n",
      "6 * 6= 36\n",
      "6 * 7= 42\n",
      "6 * 8= 48\n",
      "6 * 9= 54\n",
      "\n",
      "7 * 1= 7\n",
      "7 * 2= 14\n",
      "7 * 3= 21\n",
      "7 * 4= 28\n",
      "7 * 5= 35\n",
      "7 * 6= 42\n",
      "7 * 7= 49\n",
      "7 * 8= 56\n",
      "7 * 9= 63\n",
      "\n",
      "8 * 1= 8\n",
      "8 * 2= 16\n",
      "8 * 3= 24\n",
      "8 * 4= 32\n",
      "8 * 5= 40\n",
      "8 * 6= 48\n",
      "8 * 7= 56\n",
      "8 * 8= 64\n",
      "8 * 9= 72\n",
      "\n",
      "9 * 1= 9\n",
      "9 * 2= 18\n",
      "9 * 3= 27\n",
      "9 * 4= 36\n",
      "9 * 5= 45\n",
      "9 * 6= 54\n",
      "9 * 7= 63\n",
      "9 * 8= 72\n",
      "9 * 9= 81\n",
      "\n"
     ]
    }
   ],
   "source": [
    "for y in range(1,10):\n",
    "    for x in range(1,10):\n",
    "        print(f\"{y} * {x}= {y * x}\") \n",
    "    print()"
   ]
  },
  {
   "cell_type": "code",
   "execution_count": 20,
   "metadata": {},
   "outputs": [
    {
     "name": "stdout",
     "output_type": "stream",
     "text": [
      "*\n",
      "*\n",
      "*\n",
      "*\n",
      "*\n",
      "*\n"
     ]
    }
   ],
   "source": [
    "line=int(input(\"몇 줄?\"))\n",
    "\n",
    "for l in range(1,line):\n",
    "    for s in range(0,l):\n",
    "        print('*')\n"
   ]
  },
  {
   "cell_type": "code",
   "execution_count": 31,
   "metadata": {},
   "outputs": [
    {
     "name": "stdout",
     "output_type": "stream",
     "text": [
      "\n",
      "*\n",
      "**\n"
     ]
    }
   ],
   "source": [
    "line=int(input(\"몇 줄?\"))\n",
    "i=0\n",
    "while i <= line:\n",
    "    print('*'*i)\n",
    "    i=i+1\n",
    "     "
   ]
  },
  {
   "cell_type": "code",
   "execution_count": 35,
   "metadata": {},
   "outputs": [
    {
     "name": "stdout",
     "output_type": "stream",
     "text": [
      "      \n",
      "     *\n",
      "    **\n",
      "   ***\n",
      "  ****\n",
      " *****\n"
     ]
    }
   ],
   "source": [
    "line=int(input(\"몇 줄?\"))\n",
    "i=0\n",
    "while i <= line:\n",
    "    a=line-i\n",
    "    print(\" \"*a,i*\"*\")\n",
    "    i=i+1"
   ]
  },
  {
   "cell_type": "code",
   "execution_count": 27,
   "metadata": {},
   "outputs": [
    {
     "name": "stdout",
     "output_type": "stream",
     "text": [
      "*\n"
     ]
    }
   ],
   "source": [
    "line=int(input(\"몇 줄\"))\n",
    "i=1\n",
    "while(i<=line):\n",
    "    print(\"*\"*i)\n",
    "    i=i+1"
   ]
  },
  {
   "cell_type": "code",
   "execution_count": 93,
   "metadata": {},
   "outputs": [
    {
     "name": "stdout",
     "output_type": "stream",
     "text": [
      "     *\n",
      "    **\n",
      "   ***\n",
      "  ****\n",
      " *****\n"
     ]
    }
   ],
   "source": [
    "line=int(input(\"몇 줄\"))\n",
    "i=1\n",
    "while(i<=line):\n",
    "    a=line-i\n",
    "    print(\" \"*a,\"*\"*i)\n",
    "    i=i+1"
   ]
  },
  {
   "cell_type": "code",
   "execution_count": 94,
   "metadata": {},
   "outputs": [
    {
     "name": "stdout",
     "output_type": "stream",
     "text": [
      "     *\n",
      "    ***\n",
      "   *****\n",
      "  *******\n",
      " *********\n"
     ]
    }
   ],
   "source": [
    "line=int(input(\"몇 줄\"))\n",
    "i=1\n",
    "while(i<=line):\n",
    "    a=line-i\n",
    "    b=2*i-1\n",
    "    print(\" \"*a,\"*\"*b)\n",
    "    i=i+1"
   ]
  },
  {
   "cell_type": "code",
   "execution_count": 96,
   "metadata": {},
   "outputs": [
    {
     "data": {
      "text/plain": [
       "6"
      ]
     },
     "execution_count": 96,
     "metadata": {},
     "output_type": "execute_result"
    }
   ],
   "source": [
    "max(range(5))\n",
    "a=[1,6]\n",
    "max(a)"
   ]
  },
  {
   "cell_type": "code",
   "execution_count": 36,
   "metadata": {},
   "outputs": [
    {
     "name": "stdout",
     "output_type": "stream",
     "text": [
      "['abc']\n"
     ]
    }
   ],
   "source": [
    "a=input()\n",
    "a=\"abc\"\n",
    "b=a.split()\n",
    "print(b)\n"
   ]
  },
  {
   "cell_type": "code",
   "execution_count": 32,
   "metadata": {},
   "outputs": [
    {
     "name": "stdout",
     "output_type": "stream",
     "text": [
      "['50', '70', '90', '50', '40', '30']\n"
     ]
    },
    {
     "ename": "TypeError",
     "evalue": "'int' object is not callable",
     "output_type": "error",
     "traceback": [
      "\u001b[1;31m---------------------------------------------------------------------------\u001b[0m",
      "\u001b[1;31mTypeError\u001b[0m                                 Traceback (most recent call last)",
      "Cell \u001b[1;32mIn[32], line 11\u001b[0m\n\u001b[0;32m      7\u001b[0m     mylist\u001b[38;5;241m.\u001b[39mappend(c)\n\u001b[0;32m      8\u001b[0m     \u001b[38;5;66;03m#print(mylist)\u001b[39;00m\n\u001b[0;32m      9\u001b[0m     \u001b[38;5;66;03m#print(max(mylist))  #이렇게 하면 반복문이 돌때마다 값이 나와 결과값을 나타낼수 없다\u001b[39;00m\n\u001b[0;32m     10\u001b[0m \u001b[38;5;66;03m#print(max(mylist))\u001b[39;00m\n\u001b[1;32m---> 11\u001b[0m \u001b[38;5;28mmax\u001b[39m\u001b[38;5;241m=\u001b[39m\u001b[38;5;28mmax\u001b[39m(mylist)\n\u001b[0;32m     12\u001b[0m \u001b[38;5;28mmin\u001b[39m\u001b[38;5;241m=\u001b[39m\u001b[38;5;28mmin\u001b[39m(mylist)\n\u001b[0;32m     13\u001b[0m \u001b[38;5;28mprint\u001b[39m(\u001b[38;5;124mf\u001b[39m\u001b[38;5;124m\"\u001b[39m\u001b[38;5;124m가장 큰 값: \u001b[39m\u001b[38;5;132;01m{\u001b[39;00m\u001b[38;5;28mmax\u001b[39m\u001b[38;5;132;01m}\u001b[39;00m\u001b[38;5;124m\"\u001b[39m)\n",
      "\u001b[1;31mTypeError\u001b[0m: 'int' object is not callable"
     ]
    }
   ],
   "source": [
    "a=input(\"숫자 여러 개 입력 >\")  #input str\n",
    "#b=int(a.split())\n",
    "print(a.split())        #split으로 리스트 만듬\n",
    "mylist = []             #리스트 생성\n",
    "for i in a.split():     \n",
    "    c=int(i)\n",
    "    mylist.append(c)\n",
    "    #print(mylist)\n",
    "    #print(max(mylist))  #이렇게 하면 반복문이 돌때마다 값이 나와 결과값을 나타낼수 없다\n",
    "#print(max(mylist))\n",
    "max=max(mylist)\n",
    "min=min(mylist)\n",
    "print(f\"가장 큰 값: {max}\")\n",
    "print(f\"가장 작은 값: {min}\")\n",
    "\n",
    "#max(b)\n",
    "\n"
   ]
  },
  {
   "cell_type": "code",
   "execution_count": null,
   "metadata": {},
   "outputs": [],
   "source": [
    "numbers = [int(x) for x in input(\"다섯 개의 숫자를 입력하세요: \").split()]\n",
    "max_value = max(numbers)\n",
    "print(f\"입력한 숫자 중 최댓값은 {max_value}입니다.\")\n",
    "numbers = [int(x) for x in input(\"다섯 개의 숫자를 입력하세요: \").split()]\n",
    "\n",
    "min_value = min(numbers)\n",
    "print(f\"입력한 숫자 중 최소값은 {min_value}입니다.\")\n",
    "numbers = [int(x) for x in input(\"다섯 개의 숫자를 입력하세요: \").split()]\n",
    "average = sum(numbers) / len(numbers)\n",
    "print(f\"입력한 숫자 중 평균값은 {average}입니다.\")\n",
    "\n",
    "\"\"\"\n",
    "num = input(\"숫자 여러 개 입력: \")\n",
    "num_list = list(map(int, num.split()))      #map 사용\n",
    "print(num_list)\n",
    "max_value = max(num_list)\n",
    "print(f\"가장 큰 값: {max_value}\")\n",
    "min_value = min(num_list)\n",
    "print(f\"가장 작은 값: {min_value}\")\n",
    "result = sum(num_list) - max_value - min_value\n",
    "avg_value = result / len(num_list)-2\n",
    "print(f\"나머지 값의 평균: {avg_value}\")\n",
    "    \"\"\"\n",
    "    \n",
    "#map\n"
   ]
  },
  {
   "cell_type": "code",
   "execution_count": 39,
   "metadata": {},
   "outputs": [
    {
     "name": "stdout",
     "output_type": "stream",
     "text": [
      "3\n"
     ]
    },
    {
     "ename": "ValueError",
     "evalue": "max() iterable argument is empty",
     "output_type": "error",
     "traceback": [
      "\u001b[1;31m---------------------------------------------------------------------------\u001b[0m",
      "\u001b[1;31mValueError\u001b[0m                                Traceback (most recent call last)",
      "Cell \u001b[1;32mIn[39], line 9\u001b[0m\n\u001b[0;32m      3\u001b[0m ea \u001b[38;5;241m=\u001b[39m \u001b[38;5;28mprint\u001b[39m(\u001b[38;5;28mlen\u001b[39m(num_2))\n\u001b[0;32m      4\u001b[0m \u001b[38;5;66;03m#i = 0\u001b[39;00m\n\u001b[0;32m      5\u001b[0m \u001b[38;5;66;03m#k = []\u001b[39;00m\n\u001b[0;32m      6\u001b[0m \u001b[38;5;66;03m#while i <= ea-1 :\u001b[39;00m\n\u001b[0;32m      7\u001b[0m \u001b[38;5;66;03m#    k.append(int(num_2[i]))\u001b[39;00m\n\u001b[0;32m      8\u001b[0m \u001b[38;5;66;03m#    i = i + 1\u001b[39;00m\n\u001b[1;32m----> 9\u001b[0m \u001b[38;5;28mprint\u001b[39m(\u001b[38;5;124mf\u001b[39m\u001b[38;5;124m\"\u001b[39m\u001b[38;5;124m가장 큰 값: \u001b[39m\u001b[38;5;132;01m{\u001b[39;00m\u001b[38;5;28;43mmax\u001b[39;49m\u001b[43m(\u001b[49m\u001b[43mk\u001b[49m\u001b[43m)\u001b[49m\u001b[38;5;132;01m}\u001b[39;00m\u001b[38;5;124m\"\u001b[39m)\n\u001b[0;32m     10\u001b[0m \u001b[38;5;28mprint\u001b[39m(\u001b[38;5;124mf\u001b[39m\u001b[38;5;124m\"\u001b[39m\u001b[38;5;124m가장 작은 값: \u001b[39m\u001b[38;5;132;01m{\u001b[39;00m\u001b[38;5;28mmin\u001b[39m(k)\u001b[38;5;132;01m}\u001b[39;00m\u001b[38;5;124m\"\u001b[39m)\n\u001b[0;32m     11\u001b[0m \u001b[38;5;28mprint\u001b[39m(\u001b[38;5;124mf\u001b[39m\u001b[38;5;124m\"\u001b[39m\u001b[38;5;124m나머지 값의 평균: \u001b[39m\u001b[38;5;132;01m{\u001b[39;00m\u001b[38;5;28msum\u001b[39m(k)\u001b[38;5;241m/\u001b[39mea\u001b[38;5;132;01m}\u001b[39;00m\u001b[38;5;124m\"\u001b[39m)\n",
      "\u001b[1;31mValueError\u001b[0m: max() iterable argument is empty"
     ]
    }
   ],
   "source": [
    "num = input(\"숫자 여러 개 입력\")\n",
    "num_2 = list(num.split())\n",
    "ea = len(num_2)\n",
    "i = 0\n",
    "k = []\n",
    "while i <= ea-1 :\n",
    "    k.append(int(num_2[i]))\n",
    "    i = i + 1\n",
    "print(f\"가장 큰 값: {max(k)}\")\n",
    "print(f\"가장 작은 값: {min(k)}\")\n",
    "print(f\"나머지 값의 평균: {sum(k)/ea}\")"
   ]
  },
  {
   "cell_type": "code",
   "execution_count": 20,
   "metadata": {},
   "outputs": [
    {
     "ename": "SyntaxError",
     "evalue": "cannot assign to function call here. Maybe you meant '==' instead of '='? (3809976462.py, line 2)",
     "output_type": "error",
     "traceback": [
      "\u001b[1;36m  Cell \u001b[1;32mIn[20], line 2\u001b[1;36m\u001b[0m\n\u001b[1;33m    mylist.append(\"c\") = []\u001b[0m\n\u001b[1;37m    ^\u001b[0m\n\u001b[1;31mSyntaxError\u001b[0m\u001b[1;31m:\u001b[0m cannot assign to function call here. Maybe you meant '==' instead of '='?\n"
     ]
    }
   ],
   "source": [
    "mylist = []\n",
    "mylist.append(c) = []\n",
    "print(mylist)"
   ]
  },
  {
   "cell_type": "code",
   "execution_count": 60,
   "metadata": {},
   "outputs": [
    {
     "name": "stdout",
     "output_type": "stream",
     "text": [
      "[10.0, 20.0]\n"
     ]
    }
   ],
   "source": [
    "a=[\"10\",\"20\"]\n",
    "\n",
    "type(map(int,a))\n",
    "mylist =list(map(float,a))\n",
    "print(mylist)"
   ]
  },
  {
   "cell_type": "code",
   "execution_count": 38,
   "metadata": {},
   "outputs": [
    {
     "name": "stdout",
     "output_type": "stream",
     "text": [
      "[10, 20]\n"
     ]
    }
   ],
   "source": [
    "a=[\"10\",\"20\"]\n",
    "\n",
    "map(str,a)      # 이 상태로는 쓸수 없다.\n",
    "mylist =list(map(int,a))  # 우리가 잘 아는 형태로 변환 (리스트)\n",
    "print(mylist)"
   ]
  },
  {
   "cell_type": "code",
   "execution_count": 67,
   "metadata": {},
   "outputs": [
    {
     "ename": "TypeError",
     "evalue": "int() argument must be a string, a bytes-like object or a real number, not 'map'",
     "output_type": "error",
     "traceback": [
      "\u001b[1;31m---------------------------------------------------------------------------\u001b[0m",
      "\u001b[1;31mTypeError\u001b[0m                                 Traceback (most recent call last)",
      "Cell \u001b[1;32mIn[67], line 5\u001b[0m\n\u001b[0;32m      3\u001b[0m \u001b[38;5;28mmap\u001b[39m(\u001b[38;5;28mstr\u001b[39m,a)      \u001b[38;5;66;03m# 이 상태로는 쓸수 없다.\u001b[39;00m\n\u001b[0;32m      4\u001b[0m \u001b[38;5;66;03m#mylist =list(map(int,a))  # 우리가 잘 아는 형태로 변환 (리스트)\u001b[39;00m\n\u001b[1;32m----> 5\u001b[0m mylist \u001b[38;5;241m=\u001b[39m\u001b[38;5;28mint\u001b[39m(\u001b[38;5;28mmap\u001b[39m(\u001b[38;5;28mint\u001b[39m,a))\n\u001b[0;32m      6\u001b[0m \u001b[38;5;28mprint\u001b[39m(mylist)\n",
      "\u001b[1;31mTypeError\u001b[0m: int() argument must be a string, a bytes-like object or a real number, not 'map'"
     ]
    }
   ],
   "source": [
    "a=[\"10\",\"20\"]\n",
    "\n",
    "map(str,a)      # 이 상태로는 쓸수 없다.\n",
    "#mylist =list(map(int,a))  # 우리가 잘 아는 형태로 변환 (리스트)\n",
    "print(mylist)\n"
   ]
  },
  {
   "cell_type": "code",
   "execution_count": 42,
   "metadata": {},
   "outputs": [
    {
     "name": "stdout",
     "output_type": "stream",
     "text": [
      "[10, 30, 50, 70, 90]\n"
     ]
    }
   ],
   "source": [
    "numbers = [1, 3, 5, 7, 9]\n",
    "def square(x):\n",
    "    return x * 10\n",
    "squared_numbers = map(square, numbers)\n",
    "print(list(squared_numbers))"
   ]
  },
  {
   "cell_type": "code",
   "execution_count": 86,
   "metadata": {},
   "outputs": [
    {
     "name": "stdout",
     "output_type": "stream",
     "text": [
      "[1, 2, 3]\n"
     ]
    }
   ],
   "source": [
    "#40.리스트 조건문 과제\n",
    "n=int(input(\"정수\"))\n",
    "mylist=[]\n",
    "i=0\n",
    "while i <= n:\n",
    "    i=i+1\n",
    "    if i > n:\n",
    "        break\n",
    "    mylist.append(i)\n",
    "print(mylist)\n",
    "    "
   ]
  },
  {
   "cell_type": "code",
   "execution_count": 99,
   "metadata": {},
   "outputs": [
    {
     "name": "stdout",
     "output_type": "stream",
     "text": [
      "[1, 2, 3, 4, 5]\n"
     ]
    }
   ],
   "source": [
    "n=int(input(\"정수\"))\n",
    "mylist=[]\n",
    "i=0\n",
    "while i <= n:\n",
    "    i=i+1\n",
    "    if i > n:\n",
    "        break\n",
    "    mylist.append(i)\n",
    "print(mylist)        #정수        \n",
    "#print(mylist[::2])   #홀수\n",
    "#print(mylist[1::2])   #짝수\n"
   ]
  },
  {
   "cell_type": "code",
   "execution_count": 113,
   "metadata": {},
   "outputs": [
    {
     "name": "stdout",
     "output_type": "stream",
     "text": [
      "2\n",
      "1\n"
     ]
    }
   ],
   "source": [
    "#자판기\n",
    "j = input(\"마시고 싶은 음료?\")\n",
    "\n",
    "vending_machine = ['게토레이', '레쓰비', '생수', '이프로']\n",
    "print(vending_machine.index(j))\n",
    "\n",
    "#if j == vending_machine.index(\"j\"):"
   ]
  },
  {
   "cell_type": "code",
   "execution_count": 134,
   "metadata": {},
   "outputs": [
    {
     "name": "stdout",
     "output_type": "stream",
     "text": [
      "==============RESTART\n",
      "게토레이를 드리겠습니다.\n",
      "게토레이를 드리겠습니다.\n"
     ]
    }
   ],
   "source": [
    "j = input(\"마시고 싶은 음료?\")\n",
    "\n",
    "vending_machine = {'게토레이':'게토레이를 드리겠습니다.', '레쓰비':'레쓰비를 드리겠습니다.', '생수':'생수를 드리겠습니다.', '이프로':'이프로를 드리겠습니다.'}\n",
    "#print(input[j])\n",
    "print(\"==============RESTART\")\n",
    "print(vending_machine[j])\n",
    "\n",
    "print(vending_machine.get(j))\n",
    "\n",
    "#if print(vending_machine.index[j]) != int():   #음료 없을시\n",
    "    #print('없음')\n",
    "\n"
   ]
  },
  {
   "cell_type": "code",
   "execution_count": 137,
   "metadata": {},
   "outputs": [
    {
     "ename": "SyntaxError",
     "evalue": "expected ':' (679417553.py, line 8)",
     "output_type": "error",
     "traceback": [
      "\u001b[1;36m  Cell \u001b[1;32mIn[137], line 8\u001b[1;36m\u001b[0m\n\u001b[1;33m    if  print(vending_machine[j]) != print(vending_machine.get(j))\u001b[0m\n\u001b[1;37m                                                                  ^\u001b[0m\n\u001b[1;31mSyntaxError\u001b[0m\u001b[1;31m:\u001b[0m expected ':'\n"
     ]
    }
   ],
   "source": [
    "while True:\n",
    "    j = input(\"마시고 싶은 음료?\")\n",
    "\n",
    "    vending_machine = {'게토레이':'게토레이를 드리겠습니다.', '레쓰비':'레쓰비를 드리겠습니다.', '생수':'생수를 드리겠습니다.', '이프로':'이프로를 드리겠습니다.'}\n",
    "    #print(input[j])\n",
    "    print(\"==============RESTART\")\n",
    "    print(vending_machine[j])\n",
    "    if  print(vending_machine[j]) !=\n",
    "        print(f\"{j}는 없어요\")\n",
    "#리스트로 다시만들기ㅠㅠ"
   ]
  },
  {
   "cell_type": "code",
   "execution_count": null,
   "metadata": {},
   "outputs": [],
   "source": []
  },
  {
   "cell_type": "code",
   "execution_count": 140,
   "metadata": {},
   "outputs": [
    {
     "name": "stdout",
     "output_type": "stream",
     "text": [
      "===================RESTART\n",
      "sk는 지금 없네요\n"
     ]
    }
   ],
   "source": [
    "#자판기 답\n",
    "vending_machine = ['게토레이', '레쓰비', '생수', '이프로']\n",
    "print(\"===================RESTART\")\n",
    "berverage = input(\"마시고 싶은 음료?\")\n",
    "if berverage in vending_machine:\n",
    "  print(f\"{berverage} 드릴게요\")\n",
    "else:\n",
    "  print(f\"{berverage}는 지금 없네요\")"
   ]
  },
  {
   "cell_type": "code",
   "execution_count": 141,
   "metadata": {},
   "outputs": [
    {
     "name": "stdout",
     "output_type": "stream",
     "text": [
      "남은 음료수:['게토레이', '게토레이', '레쓰비', '레쓰비', '생수', '생수', '생수', '이프로']\n",
      "남은 음료수['게토레이', '게토레이', '레쓰비', '레쓰비', '생수', '생수', '생수', '이프로', '']\n"
     ]
    }
   ],
   "source": [
    "#자판기 응용 답\n",
    "vending_machine = ['게토레이', '게토레이', '레쓰비', '레쓰비', '생수', '생수', '생수', '이프로']\n",
    "ask = input(\"주인 or 소비자\")\n",
    "print(f\"남은 음료수:{vending_machine}\")\n",
    "if ask == \"소비자\":\n",
    "  berverage = input(\"마시고 싶은 음료\")\n",
    "  if berverage in vending_machine:\n",
    "    vending_machine.remove(berverage)\n",
    "    print(f\"{berverage}드릴게요\")\n",
    "  else:\n",
    "    print(\"없음\")\n",
    "elif ask == \"주인\":\n",
    "  y_n = input(\"추가 or 삭제\")\n",
    "  if y_n == \"추가\":\n",
    "    add_b = input(\"추가할 음료수\")\n",
    "    vending_machine.append(add_b)\n",
    "  elif y_n == \"삭제\":\n",
    "    sub_b = input(\"삭제할 음료\")\n",
    "    if sub_b in vending_machine:\n",
    "      vending_machine.remove(sub_b)\n",
    "    else:\n",
    "      print(f\"{sub_b}는 지금 없네요\")\n",
    "  else:\n",
    "    print(\"잘못된 접근입니다\")\n",
    "else:\n",
    "  print(\"잘못된 접근입니다.\")\n",
    "print(f\"남은 음료수{vending_machine}\")"
   ]
  },
  {
   "cell_type": "code",
   "execution_count": null,
   "metadata": {},
   "outputs": [],
   "source": [
    "a=1\n",
    "a=a+1 # a=2\n",
    "\n",
    "b = 1\n",
    "b +=1 # b=2\n",
    "\n",
    "True\n",
    "not True"
   ]
  }
 ],
 "metadata": {
  "kernelspec": {
   "display_name": "base",
   "language": "python",
   "name": "python3"
  },
  "language_info": {
   "codemirror_mode": {
    "name": "ipython",
    "version": 3
   },
   "file_extension": ".py",
   "mimetype": "text/x-python",
   "name": "python",
   "nbconvert_exporter": "python",
   "pygments_lexer": "ipython3",
   "version": "3.12.0"
  }
 },
 "nbformat": 4,
 "nbformat_minor": 2
}
