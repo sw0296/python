{
 "cells": [
  {
   "cell_type": "code",
   "execution_count": null,
   "metadata": {},
   "outputs": [],
   "source": [
    "print(\"helloworld\")"
   ]
  },
  {
   "cell_type": "code",
   "execution_count": 1,
   "metadata": {},
   "outputs": [
    {
     "ename": "ImportError",
     "evalue": "cannot import name 'add' from 'calc_module' (c:\\코딩온\\python\\calc_module.py)",
     "output_type": "error",
     "traceback": [
      "\u001b[1;31m---------------------------------------------------------------------------\u001b[0m",
      "\u001b[1;31mImportError\u001b[0m                               Traceback (most recent call last)",
      "Cell \u001b[1;32mIn[1], line 1\u001b[0m\n\u001b[1;32m----> 1\u001b[0m \u001b[38;5;28;01mfrom\u001b[39;00m \u001b[38;5;21;01mcalc_module\u001b[39;00m \u001b[38;5;28;01mimport\u001b[39;00m add\n",
      "\u001b[1;31mImportError\u001b[0m: cannot import name 'add' from 'calc_module' (c:\\코딩온\\python\\calc_module.py)"
     ]
    }
   ],
   "source": [
    "from calc_module import add\n",
    "\n",
    "print()"
   ]
  },
  {
   "cell_type": "code",
   "execution_count": 11,
   "metadata": {},
   "outputs": [
    {
     "name": "stdout",
     "output_type": "stream",
     "text": [
      "4\n",
      "0.8068083178668666\n"
     ]
    }
   ],
   "source": [
    "import random\n",
    "\n",
    "print(random.randint(1,5))\n",
    "print(random.random())"
   ]
  },
  {
   "cell_type": "code",
   "execution_count": 19,
   "metadata": {},
   "outputs": [
    {
     "name": "stdout",
     "output_type": "stream",
     "text": [
      "2\n",
      "2.449565924609093\n",
      "0.4674648390851113\n",
      "4\n",
      "3\n"
     ]
    }
   ],
   "source": [
    "print(random.randint(1,5))\n",
    "print(random.uniform(1,5))\n",
    "print(random.random())\n",
    "print(random.randrange(1,5))\n",
    "print(random.randrange(1,5,2))"
   ]
  },
  {
   "cell_type": "code",
   "execution_count": 36,
   "metadata": {},
   "outputs": [
    {
     "name": "stdout",
     "output_type": "stream",
     "text": [
      "[10, 15, 81, 83]\n"
     ]
    }
   ],
   "source": [
    "import random\n",
    "#print(random.randint(1,100))\n",
    "a=[]\n",
    "for i in range(4):\n",
    "    a.append(random.randint(1,100))\n",
    "    if len(a) == 4:\n",
    "        print(sorted(a))\n",
    "    \n",
    "    "
   ]
  },
  {
   "cell_type": "code",
   "execution_count": 37,
   "metadata": {},
   "outputs": [
    {
     "name": "stdout",
     "output_type": "stream",
     "text": [
      "[28, 6, 11, 45, 45, 43]\n"
     ]
    }
   ],
   "source": [
    "import random\n",
    "\n",
    "lotto=[]\n",
    "for i in range(6):\n",
    "    lotto.append(random.randint(1,45))\n",
    "    if lotto in \n",
    "    if len(lotto) == 6:\n",
    "        print(lotto)"
   ]
  },
  {
   "cell_type": "code",
   "execution_count": 39,
   "metadata": {},
   "outputs": [
    {
     "name": "stdout",
     "output_type": "stream",
     "text": [
      "[19]\n",
      "[19, 23]\n",
      "[19, 23, 15]\n",
      "[19, 23, 15, 20]\n",
      "[19, 23, 15, 20, 45]\n",
      "[19, 23, 15, 20, 45, 36]\n"
     ]
    }
   ],
   "source": [
    "import random\n",
    "\n",
    "lotto=[]                        \n",
    "for i in range(6):\n",
    "    for j in range(5)\n",
    "    lotto.append(random.randint(1,45))\n",
    "    print(lotto)\n",
    "    \"\"\"\n",
    "    로또 번호가 중복되지 않고 6개 뽑는법\n",
    "    1.중복되지 않으며 \n",
    "    2.6개 뽑혀\n",
    "    랜덤 두개 /비교 같다면 하나 버려\n",
    "    6개 뽑힐때 종료\n",
    "    중간에 리스트 안에 있는게 같은지 안 같은지 확인\n",
    "    \"\"\""
   ]
  },
  {
   "cell_type": "code",
   "execution_count": null,
   "metadata": {},
   "outputs": [],
   "source": [
    "import random\n",
    "\n",
    "lotto=[] \n",
    "\n",
    "while True:\n",
    "    lotto.append(random.randint(1,45))\n",
    "    if len(lotto) == 2:\n",
    "        for i,j in range(6):\n",
    "            \n",
    "            if lotto[i] == lotto[j]:\n",
    "                continue\n",
    "            \n",
    "    if len(lotto) == 6:\n",
    "        break"
   ]
  },
  {
   "cell_type": "code",
   "execution_count": 60,
   "metadata": {},
   "outputs": [
    {
     "data": {
      "text/plain": [
       "[0, 1, 2, 3, 4, 5]"
      ]
     },
     "execution_count": 60,
     "metadata": {},
     "output_type": "execute_result"
    }
   ],
   "source": [
    "list(range(6))"
   ]
  },
  {
   "cell_type": "code",
   "execution_count": 57,
   "metadata": {},
   "outputs": [
    {
     "name": "stdout",
     "output_type": "stream",
     "text": [
      "[3]\n",
      "[3, 14]\n",
      "[3, 14, 2]\n",
      "[3, 14, 2, 30]\n",
      "[3, 14, 2, 30, 36]\n",
      "[3, 14, 2, 30, 36, 37]\n"
     ]
    }
   ],
   "source": [
    "import random\n",
    "\n",
    "myset = set()\n",
    "\n",
    "while len(myset) != 6:\n",
    "    myset.add(random.randint(1,45))\n",
    "    \n",
    "print(myset)\n"
   ]
  },
  {
   "cell_type": "code",
   "execution_count": null,
   "metadata": {},
   "outputs": [],
   "source": [
    "0.1+0.33\n",
    "\n",
    "#정수랑, 소수랑 컴퓨터가 표현하는 방식이 달라요, 키워드는 부동소수점"
   ]
  },
  {
   "cell_type": "code",
   "execution_count": null,
   "metadata": {},
   "outputs": [],
   "source": []
  }
 ],
 "metadata": {
  "kernelspec": {
   "display_name": "Python 3",
   "language": "python",
   "name": "python3"
  },
  "language_info": {
   "codemirror_mode": {
    "name": "ipython",
    "version": 3
   },
   "file_extension": ".py",
   "mimetype": "text/x-python",
   "name": "python",
   "nbconvert_exporter": "python",
   "pygments_lexer": "ipython3",
   "version": "3.12.0"
  }
 },
 "nbformat": 4,
 "nbformat_minor": 2
}
